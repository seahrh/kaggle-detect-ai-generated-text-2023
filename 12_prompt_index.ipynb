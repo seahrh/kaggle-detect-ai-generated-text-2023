{
 "cells": [
  {
   "cell_type": "code",
   "execution_count": 1,
   "id": "8e975df1-3d84-4749-b7a2-41071d32d2cc",
   "metadata": {},
   "outputs": [],
   "source": [
    "import gc\n",
    "import os\n",
    "import pathlib\n",
    "import faiss\n",
    "import numpy as np\n",
    "import pandas as pd\n",
    "from sentence_transformers import SentenceTransformer\n",
    "import torch\n",
    "from tqdm import tqdm\n",
    "from typing import Dict, List, Tuple, NamedTuple, Callable, Any\n",
    "import scml\n",
    "from scml import pandasx as pdx\n",
    "tim = scml.Timer()\n",
    "tim.start()\n",
    "os.environ[\"TOKENIZERS_PARALLELISM\"] = \"false\"\n",
    "percentiles=[.01, .05, .1, .2, .3, .4, .5, .6, .7, .8, .9, .95, .99]\n",
    "pd.set_option(\"use_inf_as_na\", True)\n",
    "pd.set_option(\"max_info_columns\", 9999)\n",
    "pd.set_option(\"display.max_columns\", 9999)\n",
    "pd.set_option(\"display.max_rows\", 9999)\n",
    "pd.set_option('max_colwidth', 9999)\n",
    "tqdm.pandas()\n",
    "scml.seed_everything()"
   ]
  },
  {
   "cell_type": "code",
   "execution_count": 2,
   "id": "91d23eb1-b6bd-4b1b-a454-79bf421ad13e",
   "metadata": {},
   "outputs": [],
   "source": [
    "device=torch.device('cpu')\n",
    "if torch.backends.mps.is_available():\n",
    "    device = torch.device('mps')\n",
    "elif torch.cuda.is_available():\n",
    "    device = torch.device('cuda', 0)"
   ]
  },
  {
   "cell_type": "code",
   "execution_count": 3,
   "id": "10d64a9e-61d2-47e6-9e21-337264017053",
   "metadata": {},
   "outputs": [],
   "source": [
    "sentences = [\n",
    "    \"Today the majority of humans own and operate cell phones on a daily basis. In essay form, explain if drivers should or should not be able to use cell phones in any capacity while operating a vehicle.\",\n",
    "    \"Write an explanatory essay to inform fellow citizens about the advantages of limiting car usage. Your essay must be based on ideas and information that can be found in the passage set. Manage your time carefully so that you can read the passages; plan your response; write your response; and revise and edit your response. Be sure to use evidence from multiple sources; and avoid overly relying on one source. Your response should be in the form of a multiparagraph essay. Write your essay in the space provided.\",\n",
    "    \"Some schools require students to complete summer projects to assure they continue learning during their break. Should these summer projects be teacher-designed or student-designed? Take a position on this question. Support your response with reasons and specific examples.\",\n",
    "    \"You have just read the article, 'A Cowboy Who Rode the Waves.' Luke's participation in the Seagoing Cowboys program allowed him to experience adventures and visit many unique places. Using information from the article, write an argument from Luke's point of view convincing others to participate in the Seagoing Cowboys program. Be sure to include: reasons to join the program; details from the article to support Luke's claims; an introduction, a body, and a conclusion to your essay.\",\n",
    "    \"Your principal has decided that all students must participate in at least one extracurricular activity. For example, students could participate in sports, work on the yearbook, or serve on the student council. Do you agree or disagree with this decision? Use specific details and examples to convince others to support your position.\",\n",
    "    \"In 'The Challenge of Exploring Venus,' the author suggests studying Venus is a worthy pursuit despite the dangers it presents. Using details from the article, write an essay evaluating how well the author supports this idea. Be sure to include: a claim that evaluates how well the author supports the idea that studying Venus is a worthy pursuit despite the dangers; an explanation of the evidence from the article that supports your claim; an introduction, a body, and a conclusion to your essay.\",\n",
    "    \"In the article 'Making Mona Lisa Smile,' the author describes how a new technology called the Facial Action Coding System enables computers to identify human emotions. Using details from the article, write an essay arguing whether the use of this technology to read the emotional expressions of students in a classroom is valuable.\",\n",
    "    \"You have read the article 'Unmasking the Face on Mars.' Imagine you are a scientist at NASA discussing the Face with someone who thinks it was created by aliens. Using information in the article, write an argumentative essay to convince someone that the Face is just a natural landform.Be sure to include: claims to support your argument that the Face is a natural landform; evidence from the article to support your claims; an introduction, a body, and a conclusion to your argumentative essay.\",\n",
    "    \"Some of your friends perform community service. For example, some tutor elementary school children and others clean up litter. They think helping the community is very important. But other friends of yours think community service takes too much time away from what they need or want to do. Your principal is deciding whether to require all students to perform community service. Write a letter to your principal in which you take a position on whether students should be required to perform community service. Support your position with examples.\",\n",
    "    \"Your principal is considering changing school policy so that students may not participate in sports or other activities unless they have at least a grade B average. Many students have a grade C average. She would like to hear the students' views on this possible policy change. Write a letter to your principal arguing for or against requiring at least a grade B average to participate in sports or other activities. Be sure to support your arguments with specific reasons.\",\n",
    "    \"In the article 'Driverless Cars are Coming,' the author presents both positive and negative aspects of driverless cars. Using details from the article, create an argument for or against the development of these cars. Be sure to include: your position on driverless cars; appropriate details from the article that support your position; an introduction, a body, and a conclusion to your argumentative essay.\",\n",
    "    \"Write a letter to your state senator in which you argue in favor of keeping the Electoral College or changing to election by popular vote for the president of the United States. Use the information from the texts in your essay. Manage your time carefully so that you can read the passages; plan your response; write your response; and revise and edit your response. Be sure to include a claim; address counterclaims; use evidence from multiple sources; and avoid overly relying on one source. Your response should be in the form of a multiparagraph essay. Write your response in the space provided.\",\n",
    "    \"Your principal is reconsidering the school's cell phone policy. She is considering two possible policies: Policy 1: Allow students to bring phones to school and use them during lunch periods and other free times, as long as the phones are turned off during class time. Policy 2: Do not allow students to have phones at school at all. Write a letter to your principal convincing her which policy you believe is better. Support your position with specific reasons.\",\n",
    "    \"Some schools offer distance learning as an option for students to attend classes from home by way of online or video conferencing. Do you think students would benefit from being able to attend classes from home? Take a position on this issue. Support your response with reasons and examples.\",\n",
    "    \"When people ask for advice, they sometimes talk to more than one person. Explain why seeking multiple opinions can help someone make a better choice. Use specific details and examples in your response.\",\n",
    "]\n",
    "sentences = [x.lower() for x in sentences]"
   ]
  },
  {
   "cell_type": "code",
   "execution_count": 4,
   "id": "2572936e-fc96-477d-860d-19d62a17cd63",
   "metadata": {},
   "outputs": [
    {
     "name": "stdout",
     "output_type": "stream",
     "text": [
      "<class 'pandas.core.frame.DataFrame'>\n",
      "RangeIndex: 221612 entries, 0 to 221611\n",
      "Data columns (total 12 columns):\n",
      " #   Column          Non-Null Count   Dtype \n",
      "---  ------          --------------   ----- \n",
      " 0   row_id          221612 non-null  int32 \n",
      " 1   essay_id        221612 non-null  object\n",
      " 2   generated       221612 non-null  int8  \n",
      " 3   source          221612 non-null  object\n",
      " 4   prompt          221612 non-null  object\n",
      " 5   text            221612 non-null  object\n",
      " 6   text_bsc        221612 non-null  object\n",
      " 7   text_bow        221612 non-null  object\n",
      " 8   text_bow_len    221612 non-null  int16 \n",
      " 9   prompt_bsc      221612 non-null  object\n",
      " 10  prompt_bow      221612 non-null  object\n",
      " 11  prompt_bow_len  221612 non-null  int16 \n",
      "dtypes: int16(2), int32(1), int8(1), object(8)\n",
      "memory usage: 15.4+ MB\n"
     ]
    }
   ],
   "source": [
    "df = pd.read_parquet(\"input/preprocess.parquet\")\n",
    "df.info()"
   ]
  },
  {
   "cell_type": "code",
   "execution_count": 5,
   "id": "7ed024d7-ba9a-4c0d-a236-51237795b8de",
   "metadata": {},
   "outputs": [
    {
     "name": "stdout",
     "output_type": "stream",
     "text": [
      "5162 sentences\n",
      "['convert the following summary back into the original text the essay discusses the legality of abortion in the united states and how it is protected by the constitution the writer argues that women have a right to abortion because it is a personal decision and not a crime', 'there is little justification for society to make extraordinaiy efforts specially at a great cost in money and jobs to save endangered animal or plant species do you agree or disagree use specific reasons and examples to support your answer write an essay of roughly 500 words', 'write a essay that could have provided the following summary the purpose of this report is to analyze the case of the low fares airline ryanair and find out the answer to six specific questions from the case the report focuses on the key success factors the prospect of ryanair in the long haul routes the strategic leadership of michael o leary the environmental situation over recent years sustainability of ryanair s strategy and so on', 'revert the following summary back into the original essay abox4you s branding pricing and distribution strategy essay discusses the company s plan for branding pricing and distributing its subscription boxes in order to compete with other similar services the essay outlines the major inter and intra competitors of abox4you as well as their strengths and weaknesses it then goes on to discuss how abox4you will differentiate itself from these competitors and how it will use social media and integrated marketing communications to reach its target market', 'task 1 analyze individual sports skills such as soccer and practice regularly to improve 2 learn tricks and techniques to use in soccer such as kicking the ball to teammates and goalkeeping 3 challenge yourself to compete for opportunities such as being chosen for an international team 4 understand that success is not easily achieved and involves facing difficulties and working hard 5 reflect on how life experience and learning from mistakes along with hard work can lead to', 'task investigate the pros and cons of finishing high school in three years evaluate the program that would enable students to finish high school early use anecdotal evidence from your friend and or other people you know to support your argument', 'too much emphasis is placed on role models instead of copying others people should learn to think and act independently and thus make the choices that are best for them do you agree or disagree use specific reasons and examples to support your answer write an essay of roughly 500 words', 'task write an essay discussing the positive impact of technology and how it makes humans beings life easier', 'write a essay that could have provided the following summary dead end operation is significantly efficient because it allows for the accumulation of particles on the surface of the membrane dead end operation is significantly efficient because it allows for the accumulation of particles on the surface of the membrane', 'provide the full text for the following summary the role of business continuity management in risk management within the company is discussed bcm plays an important role in risk management within the company there it is important to understand the driving factors of bcm which ensure effective and reliable execution of the organisational plans the key drivers of bcm include are highlighted below', 'convert the following summary back into the original text the essay examines the case study of the 2012 sandy hook shootings applying kenneth burke s theory of dramatistic pentad to analyze how the media reported on the tragedy the dramatistic pentad is a theory developed by kenneth burke that focuses on a flawed individual and an imperfect society as rhetoric dominated by scene agent ratio the essay examines the case study of the 2012 sandy hook shootings applying this theory to analyze how the media reported on the tragedy', 'write the full essay for the following summary directed by patrick sheane dunkan and produced in 1989 84 charlie mopic 1989 is one of the numerous films about the vietnam war as a movie of the cohort it has standard features that could be assigned to the war films although 84 charlie mopic brought the fresh insight into the experiencing of the viewing of a movie about combat', 'task research the benefits of schools not allowing students to choose specific courses until late in their high school career analyze a school in which students must choose courses at an early age take into consideration the opinions of students and parents concerning the practice of forcing students to take courses for a chosen profession finally weigh the pros and cons of forcing students to take courses even when they wish to pursue a different career and develop a conclusion', 'task write an essay about why partnership is important for learning consider topics such as discussing in groups working in groups and learning more', 'task brainstorm ways to find out who you are and what your purpose is in life consider different perspectives such as family friends society and your own inner voice reflect on the difficulties of being yourself in a world that can be hostile and unsupportive make a plan for how you will strive to remain true to yourself in spite of it all', 'task 1 research the potential benefits of seeking professional guidance versus making your own decisions 2 list the values and life matters most important to you and why 3 write a comparison between making your own decisions and seeking guidance from experts 4 summarize why making your own decisions is important for you and why', 'task research different ways to meet people both online and in person without speaking offer tips on how to introduce yourself to someone you do not know and suggest potential positive and negative scenarios associated with interacting with different kinds of people explore the concept of having a pet to make friends and provide insight into how you have made friends in different environments', 'task 1 research success and the obstacles people may face on their journey towards it 2 analyze a specific example of success that illustrates the importance of believing in yourself and striving for what you want even if it means facing difficult circumstances 3 describe how someone is hard work and effort can lead to success even if it involves falling short a few times along the way 4 give an example of an organization that has faced difficulties in its journey towards success', 'what would improve your hometown write an essay convincing town officials to make a change that would improve your neighborhood', 'create the inputted essay that provided the following summary the essay compares the financial systems of singapore and brazil it found that singapore s financial system is more developed than brazil s']\n"
     ]
    }
   ],
   "source": [
    "min_len = 4\n",
    "col = \"prompt_bow\"\n",
    "sentences = set(sentences)\n",
    "sentences |= set(df[df[col].str.len()>=min_len][col])\n",
    "sentences = list(sentences)\n",
    "print(f\"{len(sentences)} sentences\\n{sentences[:20]}\")"
   ]
  },
  {
   "cell_type": "code",
   "execution_count": 6,
   "id": "90d4440a-e573-4d27-ba05-46115810d00f",
   "metadata": {},
   "outputs": [
    {
     "data": {
      "application/vnd.jupyter.widget-view+json": {
       "model_id": "907a5c87804d4698bbb83ad213a0c2e1",
       "version_major": 2,
       "version_minor": 0
      },
      "text/plain": [
       "Batches:   0%|          | 0/11 [00:00<?, ?it/s]"
      ]
     },
     "metadata": {},
     "output_type": "display_data"
    },
    {
     "name": "stdout",
     "output_type": "stream",
     "text": [
      "em=(5162, 768)\n",
      "CPU times: user 1.69 s, sys: 1.33 s, total: 3.02 s\n",
      "Wall time: 15.8 s\n"
     ]
    }
   ],
   "source": [
    "%%time\n",
    "model = SentenceTransformer(\"huggingface/sentence-transformers/all-mpnet-base-v2\", device=device)\n",
    "model.max_seq_length = 384\n",
    "em = model.encode(sentences=sentences, batch_size=512, show_progress_bar=True, convert_to_numpy=True)\n",
    "print(f\"em={em.shape}\")"
   ]
  },
  {
   "cell_type": "code",
   "execution_count": 7,
   "id": "7e45a049-36e9-430f-a990-f2dfebc5238e",
   "metadata": {},
   "outputs": [],
   "source": [
    "faiss.normalize_L2(em)"
   ]
  },
  {
   "cell_type": "code",
   "execution_count": 8,
   "id": "45b7a8be-5e64-4827-a352-52f669b48905",
   "metadata": {},
   "outputs": [
    {
     "name": "stdout",
     "output_type": "stream",
     "text": [
      "CPU times: user 672 µs, sys: 1.18 ms, total: 1.86 ms\n",
      "Wall time: 1.74 ms\n"
     ]
    }
   ],
   "source": [
    "%%time\n",
    "d = em.shape[1]\n",
    "index = faiss.IndexFlatIP(d)  # InnerProduct\n",
    "index.verbose = True\n",
    "index.train(em)\n",
    "index.add(em)"
   ]
  },
  {
   "cell_type": "code",
   "execution_count": 9,
   "id": "ad77034c-b981-4881-ab79-1cf0e1bb6ffc",
   "metadata": {},
   "outputs": [
    {
     "name": "stdout",
     "output_type": "stream",
     "text": [
      "CPU times: user 136 µs, sys: 1.36 ms, total: 1.5 ms\n",
      "Wall time: 2.65 ms\n"
     ]
    }
   ],
   "source": [
    "%%time\n",
    "faiss.write_index(index, \"output/prompts.index\")"
   ]
  },
  {
   "cell_type": "code",
   "execution_count": 10,
   "id": "7c7b630b-f386-4fae-a9e4-25c36007bc76",
   "metadata": {},
   "outputs": [
    {
     "name": "stdout",
     "output_type": "stream",
     "text": [
      "Total time taken 0:00:18.242698\n"
     ]
    }
   ],
   "source": [
    "tim.stop()\n",
    "print(f\"Total time taken {str(tim.elapsed)}\")"
   ]
  }
 ],
 "metadata": {
  "kernelspec": {
   "display_name": "Python 3 (ipykernel)",
   "language": "python",
   "name": "python3"
  },
  "language_info": {
   "codemirror_mode": {
    "name": "ipython",
    "version": 3
   },
   "file_extension": ".py",
   "mimetype": "text/x-python",
   "name": "python",
   "nbconvert_exporter": "python",
   "pygments_lexer": "ipython3",
   "version": "3.11.7"
  }
 },
 "nbformat": 4,
 "nbformat_minor": 5
}
