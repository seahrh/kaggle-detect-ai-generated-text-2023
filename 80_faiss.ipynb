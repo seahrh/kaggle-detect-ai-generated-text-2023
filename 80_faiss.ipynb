{
 "cells": [
  {
   "cell_type": "code",
   "execution_count": 1,
   "id": "f08ac9e4-95be-4a83-8314-cda65043079d",
   "metadata": {},
   "outputs": [],
   "source": [
    "import gc\n",
    "import os\n",
    "import pathlib\n",
    "import faiss\n",
    "import numpy as np\n",
    "import pandas as pd\n",
    "from sentence_transformers import SentenceTransformer\n",
    "import torch\n",
    "from tqdm import tqdm\n",
    "from typing import Dict, List, Tuple, NamedTuple, Callable, Any\n",
    "import scml\n",
    "from scml import pandasx as pdx\n",
    "tim = scml.Timer()\n",
    "tim.start()\n",
    "os.environ[\"TOKENIZERS_PARALLELISM\"] = \"false\"\n",
    "percentiles=[.01, .05, .1, .2, .3, .4, .5, .6, .7, .8, .9, .95, .99]\n",
    "pd.set_option(\"use_inf_as_na\", True)\n",
    "pd.set_option(\"max_info_columns\", 9999)\n",
    "pd.set_option(\"display.max_columns\", 9999)\n",
    "pd.set_option(\"display.max_rows\", 9999)\n",
    "pd.set_option('max_colwidth', 9999)\n",
    "tqdm.pandas()\n",
    "scml.seed_everything()"
   ]
  },
  {
   "cell_type": "code",
   "execution_count": 2,
   "id": "40cd553c-7ca1-4dd5-8275-a5bc0055c146",
   "metadata": {},
   "outputs": [],
   "source": [
    "sentences = [\n",
    "    \"Today the majority of humans own and operate cell phones on a daily basis. In essay form, explain if drivers should or should not be able to use cell phones in any capacity while operating a vehicle.\",\n",
    "    \"Write an explanatory essay to inform fellow citizens about the advantages of limiting car usage. Your essay must be based on ideas and information that can be found in the passage set. Manage your time carefully so that you can read the passages; plan your response; write your response; and revise and edit your response. Be sure to use evidence from multiple sources; and avoid overly relying on one source. Your response should be in the form of a multiparagraph essay. Write your essay in the space provided.\",\n",
    "    \"Some schools require students to complete summer projects to assure they continue learning during their break. Should these summer projects be teacher-designed or student-designed? Take a position on this question. Support your response with reasons and specific examples.\",\n",
    "    \"You have just read the article, 'A Cowboy Who Rode the Waves.' Luke's participation in the Seagoing Cowboys program allowed him to experience adventures and visit many unique places. Using information from the article, write an argument from Luke's point of view convincing others to participate in the Seagoing Cowboys program. Be sure to include: reasons to join the program; details from the article to support Luke's claims; an introduction, a body, and a conclusion to your essay.\",\n",
    "    \"Your principal has decided that all students must participate in at least one extracurricular activity. For example, students could participate in sports, work on the yearbook, or serve on the student council. Do you agree or disagree with this decision? Use specific details and examples to convince others to support your position.\",\n",
    "    \"In 'The Challenge of Exploring Venus,' the author suggests studying Venus is a worthy pursuit despite the dangers it presents. Using details from the article, write an essay evaluating how well the author supports this idea. Be sure to include: a claim that evaluates how well the author supports the idea that studying Venus is a worthy pursuit despite the dangers; an explanation of the evidence from the article that supports your claim; an introduction, a body, and a conclusion to your essay.\",\n",
    "    \"In the article 'Making Mona Lisa Smile,' the author describes how a new technology called the Facial Action Coding System enables computers to identify human emotions. Using details from the article, write an essay arguing whether the use of this technology to read the emotional expressions of students in a classroom is valuable.\",\n",
    "    \"You have read the article 'Unmasking the Face on Mars.' Imagine you are a scientist at NASA discussing the Face with someone who thinks it was created by aliens. Using information in the article, write an argumentative essay to convince someone that the Face is just a natural landform.Be sure to include: claims to support your argument that the Face is a natural landform; evidence from the article to support your claims; an introduction, a body, and a conclusion to your argumentative essay.\",\n",
    "    \"Some of your friends perform community service. For example, some tutor elementary school children and others clean up litter. They think helping the community is very important. But other friends of yours think community service takes too much time away from what they need or want to do. Your principal is deciding whether to require all students to perform community service. Write a letter to your principal in which you take a position on whether students should be required to perform community service. Support your position with examples.\",\n",
    "    \"Your principal is considering changing school policy so that students may not participate in sports or other activities unless they have at least a grade B average. Many students have a grade C average. She would like to hear the students' views on this possible policy change. Write a letter to your principal arguing for or against requiring at least a grade B average to participate in sports or other activities. Be sure to support your arguments with specific reasons.\",\n",
    "    \"In the article 'Driverless Cars are Coming,' the author presents both positive and negative aspects of driverless cars. Using details from the article, create an argument for or against the development of these cars. Be sure to include: your position on driverless cars; appropriate details from the article that support your position; an introduction, a body, and a conclusion to your argumentative essay.\",\n",
    "    \"Write a letter to your state senator in which you argue in favor of keeping the Electoral College or changing to election by popular vote for the president of the United States. Use the information from the texts in your essay. Manage your time carefully so that you can read the passages; plan your response; write your response; and revise and edit your response. Be sure to include a claim; address counterclaims; use evidence from multiple sources; and avoid overly relying on one source. Your response should be in the form of a multiparagraph essay. Write your response in the space provided.\",\n",
    "    \"Your principal is reconsidering the school's cell phone policy. She is considering two possible policies: Policy 1: Allow students to bring phones to school and use them during lunch periods and other free times, as long as the phones are turned off during class time. Policy 2: Do not allow students to have phones at school at all. Write a letter to your principal convincing her which policy you believe is better. Support your position with specific reasons.\",\n",
    "    \"Some schools offer distance learning as an option for students to attend classes from home by way of online or video conferencing. Do you think students would benefit from being able to attend classes from home? Take a position on this issue. Support your response with reasons and examples.\",\n",
    "    \"When people ask for advice, they sometimes talk to more than one person. Explain why seeking multiple opinions can help someone make a better choice. Use specific details and examples in your response.\",\n",
    "]"
   ]
  },
  {
   "cell_type": "code",
   "execution_count": 3,
   "id": "bc31f28b-a98a-4661-ab8f-e5553fa68759",
   "metadata": {},
   "outputs": [
    {
     "name": "stdout",
     "output_type": "stream",
     "text": [
      "<class 'pandas.core.frame.DataFrame'>\n",
      "RangeIndex: 39120 entries, 0 to 39119\n",
      "Data columns (total 11 columns):\n",
      " #   Column          Non-Null Count  Dtype \n",
      "---  ------          --------------  ----- \n",
      " 0   essay_id        39120 non-null  int32 \n",
      " 1   generated       39120 non-null  int8  \n",
      " 2   source          39120 non-null  object\n",
      " 3   prompt          39120 non-null  object\n",
      " 4   text            39120 non-null  object\n",
      " 5   text_bsc        39120 non-null  object\n",
      " 6   text_bow        39120 non-null  object\n",
      " 7   text_bow_len    39120 non-null  int16 \n",
      " 8   prompt_bsc      39120 non-null  object\n",
      " 9   prompt_bow      39120 non-null  object\n",
      " 10  prompt_bow_len  39120 non-null  int16 \n",
      "dtypes: int16(2), int32(1), int8(1), object(7)\n",
      "memory usage: 2.4+ MB\n"
     ]
    }
   ],
   "source": [
    "df = pd.read_parquet(\"input/preprocess.parquet\")\n",
    "df.info()"
   ]
  },
  {
   "cell_type": "code",
   "execution_count": 4,
   "id": "99d39476-6e10-4c63-a5b7-86ce608ae5f2",
   "metadata": {},
   "outputs": [
    {
     "data": {
      "text/html": [
       "<div>\n",
       "<style scoped>\n",
       "    .dataframe tbody tr th:only-of-type {\n",
       "        vertical-align: middle;\n",
       "    }\n",
       "\n",
       "    .dataframe tbody tr th {\n",
       "        vertical-align: top;\n",
       "    }\n",
       "\n",
       "    .dataframe thead th {\n",
       "        text-align: right;\n",
       "    }\n",
       "</style>\n",
       "<table border=\"1\" class=\"dataframe\">\n",
       "  <thead>\n",
       "    <tr style=\"text-align: right;\">\n",
       "      <th></th>\n",
       "      <th>count</th>\n",
       "      <th>percent</th>\n",
       "    </tr>\n",
       "    <tr>\n",
       "      <th>source</th>\n",
       "      <th></th>\n",
       "      <th></th>\n",
       "    </tr>\n",
       "  </thead>\n",
       "  <tbody>\n",
       "    <tr>\n",
       "      <th>persuade_corpus</th>\n",
       "      <td>25797</td>\n",
       "      <td>0.659433</td>\n",
       "    </tr>\n",
       "    <tr>\n",
       "      <th>llammistral7binstruct</th>\n",
       "      <td>2420</td>\n",
       "      <td>0.061861</td>\n",
       "    </tr>\n",
       "    <tr>\n",
       "      <th>llama2_chat</th>\n",
       "      <td>2418</td>\n",
       "      <td>0.061810</td>\n",
       "    </tr>\n",
       "    <tr>\n",
       "      <th>original_moth</th>\n",
       "      <td>2260</td>\n",
       "      <td>0.057771</td>\n",
       "    </tr>\n",
       "    <tr>\n",
       "      <th>chat_gpt_moth</th>\n",
       "      <td>2124</td>\n",
       "      <td>0.054294</td>\n",
       "    </tr>\n",
       "    <tr>\n",
       "      <th>train_essays</th>\n",
       "      <td>1378</td>\n",
       "      <td>0.035225</td>\n",
       "    </tr>\n",
       "    <tr>\n",
       "      <th>llama_70b_v1</th>\n",
       "      <td>1172</td>\n",
       "      <td>0.029959</td>\n",
       "    </tr>\n",
       "    <tr>\n",
       "      <th>falcon_180b_v1</th>\n",
       "      <td>1051</td>\n",
       "      <td>0.026866</td>\n",
       "    </tr>\n",
       "    <tr>\n",
       "      <th>radek_500</th>\n",
       "      <td>500</td>\n",
       "      <td>0.012781</td>\n",
       "    </tr>\n",
       "  </tbody>\n",
       "</table>\n",
       "</div>"
      ],
      "text/plain": [
       "                       count   percent\n",
       "source                                \n",
       "persuade_corpus        25797  0.659433\n",
       "llammistral7binstruct   2420  0.061861\n",
       "llama2_chat             2418  0.061810\n",
       "original_moth           2260  0.057771\n",
       "chat_gpt_moth           2124  0.054294\n",
       "train_essays            1378  0.035225\n",
       "llama_70b_v1            1172  0.029959\n",
       "falcon_180b_v1          1051  0.026866\n",
       "radek_500                500  0.012781"
      ]
     },
     "execution_count": 4,
     "metadata": {},
     "output_type": "execute_result"
    }
   ],
   "source": [
    "pdx.value_counts(df[\"source\"])"
   ]
  },
  {
   "cell_type": "code",
   "execution_count": 5,
   "id": "18050d0b-75b1-43e4-881a-57ba3d0f9f70",
   "metadata": {},
   "outputs": [
    {
     "name": "stdout",
     "output_type": "stream",
     "text": [
      "Sampled 10015 out of 27172 sentences\n"
     ]
    }
   ],
   "source": [
    "white = [\"persuade_corpus\", \"train_essays\"]\n",
    "df = df[(df[\"generated\"]==0) & (df[\"source\"].isin(white))]\n",
    "total = len(df)\n",
    "df = df.sample(10_000)\n",
    "sentences += df[\"text_bow\"].tolist()\n",
    "print(f\"Sampled {len(sentences):,} out of {total:,} sentences\")"
   ]
  },
  {
   "cell_type": "code",
   "execution_count": 6,
   "id": "f0a350be-a422-4431-b5cb-a4c70541c4ef",
   "metadata": {},
   "outputs": [
    {
     "data": {
      "application/vnd.jupyter.widget-view+json": {
       "model_id": "be7ed609bc44417a9403a02d7d9246b2",
       "version_major": 2,
       "version_minor": 0
      },
      "text/plain": [
       "Batches:   0%|          | 0/20 [00:00<?, ?it/s]"
      ]
     },
     "metadata": {},
     "output_type": "display_data"
    },
    {
     "name": "stdout",
     "output_type": "stream",
     "text": [
      "em=(10015, 768)\n",
      "CPU times: user 8.1 s, sys: 2.45 s, total: 10.6 s\n",
      "Wall time: 2min 29s\n"
     ]
    }
   ],
   "source": [
    "%%time\n",
    "model = SentenceTransformer(\"huggingface/sentence-transformers/all-mpnet-base-v2\", device=torch.device(\"mps\"))\n",
    "model.max_seq_length = 384\n",
    "em = model.encode(sentences=sentences, batch_size=512, show_progress_bar=True, convert_to_numpy=True)\n",
    "print(f\"em={em.shape}\")"
   ]
  },
  {
   "cell_type": "code",
   "execution_count": 7,
   "id": "472c9af3-2e12-489c-858b-db47a9d85c28",
   "metadata": {},
   "outputs": [],
   "source": [
    "faiss.normalize_L2(em)"
   ]
  },
  {
   "cell_type": "code",
   "execution_count": 8,
   "id": "3de4840c-a668-48ba-b1cb-e1752f4f10be",
   "metadata": {},
   "outputs": [
    {
     "name": "stdout",
     "output_type": "stream",
     "text": [
      "CPU times: user 1.72 ms, sys: 4.35 ms, total: 6.07 ms\n",
      "Wall time: 6.04 ms\n"
     ]
    }
   ],
   "source": [
    "%%time\n",
    "d = em.shape[1]\n",
    "index = faiss.IndexFlatIP(d)  # InnerProduct\n",
    "index.verbose = True\n",
    "index.train(em)\n",
    "index.add(em)"
   ]
  },
  {
   "cell_type": "code",
   "execution_count": 9,
   "id": "177fbc80-cfc1-4f3b-9707-6374754d9637",
   "metadata": {},
   "outputs": [
    {
     "name": "stdout",
     "output_type": "stream",
     "text": [
      "CPU times: user 386 µs, sys: 3.61 ms, total: 3.99 ms\n",
      "Wall time: 4.3 ms\n"
     ]
    }
   ],
   "source": [
    "%%time\n",
    "faiss.write_index(index, \"output/white.index\")"
   ]
  },
  {
   "cell_type": "code",
   "execution_count": 10,
   "id": "4b770d90-a8e2-47c8-9da4-39da0bc46b07",
   "metadata": {},
   "outputs": [
    {
     "name": "stdout",
     "output_type": "stream",
     "text": [
      "ntotal=10015, is_trained=True\n",
      "CPU times: user 1 ms, sys: 7.5 ms, total: 8.5 ms\n",
      "Wall time: 8.11 ms\n"
     ]
    }
   ],
   "source": [
    "%%time\n",
    "index = faiss.read_index(\"output/white.index\")\n",
    "print(f\"ntotal={index.ntotal}, is_trained={index.is_trained}\")"
   ]
  },
  {
   "cell_type": "code",
   "execution_count": 11,
   "id": "5e426bac-c0cf-421b-b878-690f03a06e37",
   "metadata": {},
   "outputs": [
    {
     "name": "stdout",
     "output_type": "stream",
     "text": [
      "I=array([[ 0],\n",
      "       [ 1],\n",
      "       [ 2],\n",
      "       [ 3],\n",
      "       [ 4],\n",
      "       [ 5],\n",
      "       [ 6],\n",
      "       [ 7],\n",
      "       [ 8],\n",
      "       [ 9],\n",
      "       [10],\n",
      "       [11],\n",
      "       [12],\n",
      "       [13],\n",
      "       [14],\n",
      "       [15],\n",
      "       [16],\n",
      "       [17],\n",
      "       [18],\n",
      "       [19]])\n",
      "D=array([[1.0000002 ],\n",
      "       [0.99999994],\n",
      "       [1.0000006 ],\n",
      "       [0.99999994],\n",
      "       [1.0000002 ],\n",
      "       [1.0000001 ],\n",
      "       [1.0000004 ],\n",
      "       [1.0000005 ],\n",
      "       [1.0000002 ],\n",
      "       [1.0000001 ],\n",
      "       [1.        ],\n",
      "       [1.0000007 ],\n",
      "       [1.        ],\n",
      "       [1.        ],\n",
      "       [1.0000002 ],\n",
      "       [1.0000001 ],\n",
      "       [0.9999998 ],\n",
      "       [1.0000002 ],\n",
      "       [1.0000002 ],\n",
      "       [1.0000001 ]], dtype=float32)\n"
     ]
    }
   ],
   "source": [
    "# sanity check\n",
    "k=1\n",
    "distances, ids = index.search(em[:20], k)  \n",
    "print(f\"I={repr(ids)}\\nD={repr(distances)}\")"
   ]
  },
  {
   "cell_type": "code",
   "execution_count": 12,
   "id": "21c2d11c-1593-4198-8463-93a751d0a37a",
   "metadata": {},
   "outputs": [
    {
     "data": {
      "application/vnd.jupyter.widget-view+json": {
       "model_id": "b8a2a68d3c764351b137f9dc253bc2af",
       "version_major": 2,
       "version_minor": 0
      },
      "text/plain": [
       "Batches:   0%|          | 0/1 [00:00<?, ?it/s]"
      ]
     },
     "metadata": {},
     "output_type": "display_data"
    },
    {
     "name": "stdout",
     "output_type": "stream",
     "text": [
      "q=(21, 768)\n",
      "[(0.28400007, 'baking class'), (0.32608566, 'politician'), (0.32897663, 'activist'), (0.3492005, 'government'), (0.37236774, 'school projects'), (0.4410541, 'tesla'), (0.46479127, 'cowboy'), (0.47929913, 'cars'), (0.49908605, 'automobile'), (0.51537734, 'planets'), (0.5243023, 'mars'), (0.54078025, 'phone'), (0.55978537, 'community service'), (0.5868071, 'school sports'), (0.61108714, 'learning outside the classroom'), (0.65356404, 'venus'), (0.6612169, 'distance learning'), (0.6799522, 'facial emotion'), (0.6852598, 'school activities'), (0.68800247, 'school policy'), (0.739099, 'asking for advice')]\n"
     ]
    }
   ],
   "source": [
    "queries = [\"phone\", \"mars\", \"venus\", \"school projects\", \"school sports\", \"school activities\", \"cowboy\", \"facial emotion\", \"planets\", \"community service\",\n",
    "          \"cars\", \"automobile\", \"tesla\", \"school policy\", \"politician\", \"government\", \"activist\", \"asking for advice\", \"distance learning\", \"learning outside the classroom\",\n",
    "           \"baking class\", \n",
    "          ]\n",
    "q = model.encode(sentences=queries, batch_size=512, show_progress_bar=True, convert_to_numpy=True)\n",
    "print(f\"q={q.shape}\")\n",
    "faiss.normalize_L2(q)\n",
    "k=1\n",
    "distances, ids = index.search(q, k)\n",
    "distances = distances.flatten()\n",
    "ids = ids.flatten()\n",
    "scores = list(zip(distances, queries))\n",
    "scores.sort()\n",
    "print(scores)"
   ]
  },
  {
   "cell_type": "code",
   "execution_count": 13,
   "id": "e382f100-4573-4d88-b16e-f62fbcb39558",
   "metadata": {},
   "outputs": [
    {
     "name": "stdout",
     "output_type": "stream",
     "text": [
      "Total time taken 0:02:30.061522\n"
     ]
    }
   ],
   "source": [
    "tim.stop()\n",
    "print(f\"Total time taken {str(tim.elapsed)}\")"
   ]
  }
 ],
 "metadata": {
  "kernelspec": {
   "display_name": "Python 3 (ipykernel)",
   "language": "python",
   "name": "python3"
  },
  "language_info": {
   "codemirror_mode": {
    "name": "ipython",
    "version": 3
   },
   "file_extension": ".py",
   "mimetype": "text/x-python",
   "name": "python",
   "nbconvert_exporter": "python",
   "pygments_lexer": "ipython3",
   "version": "3.11.7"
  }
 },
 "nbformat": 4,
 "nbformat_minor": 5
}
