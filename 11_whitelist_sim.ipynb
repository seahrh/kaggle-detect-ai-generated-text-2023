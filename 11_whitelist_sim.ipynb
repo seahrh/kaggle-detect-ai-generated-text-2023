{
 "cells": [
  {
   "cell_type": "code",
   "execution_count": 1,
   "id": "f08ac9e4-95be-4a83-8314-cda65043079d",
   "metadata": {},
   "outputs": [],
   "source": [
    "import gc\n",
    "import os\n",
    "import pathlib\n",
    "import faiss\n",
    "import numpy as np\n",
    "import pandas as pd\n",
    "from sentence_transformers import SentenceTransformer\n",
    "import torch\n",
    "from tqdm import tqdm\n",
    "from typing import Dict, List, Tuple, NamedTuple, Callable, Any\n",
    "import scml\n",
    "from scml import pandasx as pdx\n",
    "tim = scml.Timer()\n",
    "tim.start()\n",
    "os.environ[\"TOKENIZERS_PARALLELISM\"] = \"false\"\n",
    "percentiles=[.01, .05, .1, .2, .3, .4, .5, .6, .7, .8, .9, .95, .99]\n",
    "pd.set_option(\"use_inf_as_na\", True)\n",
    "pd.set_option(\"max_info_columns\", 9999)\n",
    "pd.set_option(\"display.max_columns\", 9999)\n",
    "pd.set_option(\"display.max_rows\", 9999)\n",
    "pd.set_option('max_colwidth', 9999)\n",
    "tqdm.pandas()\n",
    "scml.seed_everything()"
   ]
  },
  {
   "cell_type": "code",
   "execution_count": 2,
   "id": "40cd553c-7ca1-4dd5-8275-a5bc0055c146",
   "metadata": {},
   "outputs": [],
   "source": [
    "sentences = [\n",
    "    \"Today the majority of humans own and operate cell phones on a daily basis. In essay form, explain if drivers should or should not be able to use cell phones in any capacity while operating a vehicle.\",\n",
    "    \"Write an explanatory essay to inform fellow citizens about the advantages of limiting car usage. Your essay must be based on ideas and information that can be found in the passage set. Manage your time carefully so that you can read the passages; plan your response; write your response; and revise and edit your response. Be sure to use evidence from multiple sources; and avoid overly relying on one source. Your response should be in the form of a multiparagraph essay. Write your essay in the space provided.\",\n",
    "    \"Some schools require students to complete summer projects to assure they continue learning during their break. Should these summer projects be teacher-designed or student-designed? Take a position on this question. Support your response with reasons and specific examples.\",\n",
    "    \"You have just read the article, 'A Cowboy Who Rode the Waves.' Luke's participation in the Seagoing Cowboys program allowed him to experience adventures and visit many unique places. Using information from the article, write an argument from Luke's point of view convincing others to participate in the Seagoing Cowboys program. Be sure to include: reasons to join the program; details from the article to support Luke's claims; an introduction, a body, and a conclusion to your essay.\",\n",
    "    \"Your principal has decided that all students must participate in at least one extracurricular activity. For example, students could participate in sports, work on the yearbook, or serve on the student council. Do you agree or disagree with this decision? Use specific details and examples to convince others to support your position.\",\n",
    "    \"In 'The Challenge of Exploring Venus,' the author suggests studying Venus is a worthy pursuit despite the dangers it presents. Using details from the article, write an essay evaluating how well the author supports this idea. Be sure to include: a claim that evaluates how well the author supports the idea that studying Venus is a worthy pursuit despite the dangers; an explanation of the evidence from the article that supports your claim; an introduction, a body, and a conclusion to your essay.\",\n",
    "    \"In the article 'Making Mona Lisa Smile,' the author describes how a new technology called the Facial Action Coding System enables computers to identify human emotions. Using details from the article, write an essay arguing whether the use of this technology to read the emotional expressions of students in a classroom is valuable.\",\n",
    "    \"You have read the article 'Unmasking the Face on Mars.' Imagine you are a scientist at NASA discussing the Face with someone who thinks it was created by aliens. Using information in the article, write an argumentative essay to convince someone that the Face is just a natural landform.Be sure to include: claims to support your argument that the Face is a natural landform; evidence from the article to support your claims; an introduction, a body, and a conclusion to your argumentative essay.\",\n",
    "    \"Some of your friends perform community service. For example, some tutor elementary school children and others clean up litter. They think helping the community is very important. But other friends of yours think community service takes too much time away from what they need or want to do. Your principal is deciding whether to require all students to perform community service. Write a letter to your principal in which you take a position on whether students should be required to perform community service. Support your position with examples.\",\n",
    "    \"Your principal is considering changing school policy so that students may not participate in sports or other activities unless they have at least a grade B average. Many students have a grade C average. She would like to hear the students' views on this possible policy change. Write a letter to your principal arguing for or against requiring at least a grade B average to participate in sports or other activities. Be sure to support your arguments with specific reasons.\",\n",
    "    \"In the article 'Driverless Cars are Coming,' the author presents both positive and negative aspects of driverless cars. Using details from the article, create an argument for or against the development of these cars. Be sure to include: your position on driverless cars; appropriate details from the article that support your position; an introduction, a body, and a conclusion to your argumentative essay.\",\n",
    "    \"Write a letter to your state senator in which you argue in favor of keeping the Electoral College or changing to election by popular vote for the president of the United States. Use the information from the texts in your essay. Manage your time carefully so that you can read the passages; plan your response; write your response; and revise and edit your response. Be sure to include a claim; address counterclaims; use evidence from multiple sources; and avoid overly relying on one source. Your response should be in the form of a multiparagraph essay. Write your response in the space provided.\",\n",
    "    \"Your principal is reconsidering the school's cell phone policy. She is considering two possible policies: Policy 1: Allow students to bring phones to school and use them during lunch periods and other free times, as long as the phones are turned off during class time. Policy 2: Do not allow students to have phones at school at all. Write a letter to your principal convincing her which policy you believe is better. Support your position with specific reasons.\",\n",
    "    \"Some schools offer distance learning as an option for students to attend classes from home by way of online or video conferencing. Do you think students would benefit from being able to attend classes from home? Take a position on this issue. Support your response with reasons and examples.\",\n",
    "    \"When people ask for advice, they sometimes talk to more than one person. Explain why seeking multiple opinions can help someone make a better choice. Use specific details and examples in your response.\",\n",
    "]"
   ]
  },
  {
   "cell_type": "code",
   "execution_count": 3,
   "id": "bc31f28b-a98a-4661-ab8f-e5553fa68759",
   "metadata": {},
   "outputs": [
    {
     "name": "stdout",
     "output_type": "stream",
     "text": [
      "<class 'pandas.core.frame.DataFrame'>\n",
      "RangeIndex: 43529 entries, 0 to 43528\n",
      "Data columns (total 11 columns):\n",
      " #   Column          Non-Null Count  Dtype \n",
      "---  ------          --------------  ----- \n",
      " 0   essay_id        43529 non-null  int32 \n",
      " 1   generated       43529 non-null  int8  \n",
      " 2   source          43529 non-null  object\n",
      " 3   prompt          43529 non-null  object\n",
      " 4   text            43529 non-null  object\n",
      " 5   text_bsc        43529 non-null  object\n",
      " 6   text_bow        43529 non-null  object\n",
      " 7   text_bow_len    43529 non-null  int16 \n",
      " 8   prompt_bsc      43529 non-null  object\n",
      " 9   prompt_bow      43529 non-null  object\n",
      " 10  prompt_bow_len  43529 non-null  int16 \n",
      "dtypes: int16(2), int32(1), int8(1), object(7)\n",
      "memory usage: 2.7+ MB\n"
     ]
    }
   ],
   "source": [
    "df = pd.read_parquet(\"input/preprocess.parquet\")\n",
    "df.info()"
   ]
  },
  {
   "cell_type": "code",
   "execution_count": 4,
   "id": "99d39476-6e10-4c63-a5b7-86ce608ae5f2",
   "metadata": {},
   "outputs": [
    {
     "data": {
      "text/html": [
       "<div>\n",
       "<style scoped>\n",
       "    .dataframe tbody tr th:only-of-type {\n",
       "        vertical-align: middle;\n",
       "    }\n",
       "\n",
       "    .dataframe tbody tr th {\n",
       "        vertical-align: top;\n",
       "    }\n",
       "\n",
       "    .dataframe thead th {\n",
       "        text-align: right;\n",
       "    }\n",
       "</style>\n",
       "<table border=\"1\" class=\"dataframe\">\n",
       "  <thead>\n",
       "    <tr style=\"text-align: right;\">\n",
       "      <th></th>\n",
       "      <th>count</th>\n",
       "      <th>percent</th>\n",
       "    </tr>\n",
       "    <tr>\n",
       "      <th>source</th>\n",
       "      <th></th>\n",
       "      <th></th>\n",
       "    </tr>\n",
       "  </thead>\n",
       "  <tbody>\n",
       "    <tr>\n",
       "      <th>persuade_corpus</th>\n",
       "      <td>25793</td>\n",
       "      <td>0.592547</td>\n",
       "    </tr>\n",
       "    <tr>\n",
       "      <th>mistral7binstruct_v1</th>\n",
       "      <td>2420</td>\n",
       "      <td>0.055595</td>\n",
       "    </tr>\n",
       "    <tr>\n",
       "      <th>llama2_chat</th>\n",
       "      <td>2418</td>\n",
       "      <td>0.055549</td>\n",
       "    </tr>\n",
       "    <tr>\n",
       "      <th>mistral7binstruct_v2</th>\n",
       "      <td>2409</td>\n",
       "      <td>0.055342</td>\n",
       "    </tr>\n",
       "    <tr>\n",
       "      <th>original_moth</th>\n",
       "      <td>2264</td>\n",
       "      <td>0.052011</td>\n",
       "    </tr>\n",
       "    <tr>\n",
       "      <th>chat_gpt_moth</th>\n",
       "      <td>2124</td>\n",
       "      <td>0.048795</td>\n",
       "    </tr>\n",
       "    <tr>\n",
       "      <th>train_essays</th>\n",
       "      <td>1378</td>\n",
       "      <td>0.031657</td>\n",
       "    </tr>\n",
       "    <tr>\n",
       "      <th>llama_70b_v1</th>\n",
       "      <td>1172</td>\n",
       "      <td>0.026925</td>\n",
       "    </tr>\n",
       "    <tr>\n",
       "      <th>falcon_180b_v1</th>\n",
       "      <td>1051</td>\n",
       "      <td>0.024145</td>\n",
       "    </tr>\n",
       "    <tr>\n",
       "      <th>darragh_claude_v7</th>\n",
       "      <td>1000</td>\n",
       "      <td>0.022973</td>\n",
       "    </tr>\n",
       "    <tr>\n",
       "      <th>darragh_claude_v6</th>\n",
       "      <td>1000</td>\n",
       "      <td>0.022973</td>\n",
       "    </tr>\n",
       "    <tr>\n",
       "      <th>radek_500</th>\n",
       "      <td>500</td>\n",
       "      <td>0.011487</td>\n",
       "    </tr>\n",
       "  </tbody>\n",
       "</table>\n",
       "</div>"
      ],
      "text/plain": [
       "                      count   percent\n",
       "source                               \n",
       "persuade_corpus       25793  0.592547\n",
       "mistral7binstruct_v1   2420  0.055595\n",
       "llama2_chat            2418  0.055549\n",
       "mistral7binstruct_v2   2409  0.055342\n",
       "original_moth          2264  0.052011\n",
       "chat_gpt_moth          2124  0.048795\n",
       "train_essays           1378  0.031657\n",
       "llama_70b_v1           1172  0.026925\n",
       "falcon_180b_v1         1051  0.024145\n",
       "darragh_claude_v7      1000  0.022973\n",
       "darragh_claude_v6      1000  0.022973\n",
       "radek_500               500  0.011487"
      ]
     },
     "execution_count": 4,
     "metadata": {},
     "output_type": "execute_result"
    }
   ],
   "source": [
    "pdx.value_counts(df[\"source\"])"
   ]
  },
  {
   "cell_type": "code",
   "execution_count": 5,
   "id": "18050d0b-75b1-43e4-881a-57ba3d0f9f70",
   "metadata": {},
   "outputs": [
    {
     "name": "stdout",
     "output_type": "stream",
     "text": [
      "Sampled 21,222 out of 21,207 sentences\n"
     ]
    }
   ],
   "source": [
    "white = [\"persuade_corpus\", \"train_essays\"]\n",
    "min_len = 1394  # P20\n",
    "tmp = df[(df[\"generated\"]==0) & (df[\"source\"].isin(white)) & (df[\"text_bow_len\"]>=min_len)]\n",
    "total = len(tmp)\n",
    "#tmp = tmp.sample(16_000)\n",
    "sentences += tmp[\"text_bow\"].tolist()\n",
    "print(f\"{len(sentences):,} sentences\")"
   ]
  },
  {
   "cell_type": "markdown",
   "id": "f843b654-aecd-4cba-97f5-68e42c30d553",
   "metadata": {},
   "source": [
    "# Build Index"
   ]
  },
  {
   "cell_type": "code",
   "execution_count": 6,
   "id": "f0a350be-a422-4431-b5cb-a4c70541c4ef",
   "metadata": {},
   "outputs": [
    {
     "data": {
      "application/vnd.jupyter.widget-view+json": {
       "model_id": "82173311e7684cd3a7c173e817b66eac",
       "version_major": 2,
       "version_minor": 0
      },
      "text/plain": [
       "Batches:   0%|          | 0/42 [00:00<?, ?it/s]"
      ]
     },
     "metadata": {},
     "output_type": "display_data"
    },
    {
     "name": "stdout",
     "output_type": "stream",
     "text": [
      "em=(21222, 768)\n",
      "CPU times: user 17.7 s, sys: 4.13 s, total: 21.8 s\n",
      "Wall time: 6min 3s\n"
     ]
    }
   ],
   "source": [
    "%%time\n",
    "model = SentenceTransformer(\"huggingface/sentence-transformers/all-mpnet-base-v2\", device=torch.device(\"mps\"))\n",
    "model.max_seq_length = 384\n",
    "em = model.encode(sentences=sentences, batch_size=512, show_progress_bar=True, convert_to_numpy=True)\n",
    "print(f\"em={em.shape}\")"
   ]
  },
  {
   "cell_type": "code",
   "execution_count": 7,
   "id": "472c9af3-2e12-489c-858b-db47a9d85c28",
   "metadata": {},
   "outputs": [],
   "source": [
    "faiss.normalize_L2(em)"
   ]
  },
  {
   "cell_type": "code",
   "execution_count": 8,
   "id": "3de4840c-a668-48ba-b1cb-e1752f4f10be",
   "metadata": {},
   "outputs": [
    {
     "name": "stdout",
     "output_type": "stream",
     "text": [
      "CPU times: user 3.58 ms, sys: 7.84 ms, total: 11.4 ms\n",
      "Wall time: 11.3 ms\n"
     ]
    }
   ],
   "source": [
    "%%time\n",
    "d = em.shape[1]\n",
    "index = faiss.IndexFlatIP(d)  # InnerProduct\n",
    "index.verbose = True\n",
    "index.train(em)\n",
    "index.add(em)"
   ]
  },
  {
   "cell_type": "code",
   "execution_count": 9,
   "id": "177fbc80-cfc1-4f3b-9707-6374754d9637",
   "metadata": {},
   "outputs": [
    {
     "name": "stdout",
     "output_type": "stream",
     "text": [
      "CPU times: user 235 µs, sys: 8.22 ms, total: 8.45 ms\n",
      "Wall time: 10.6 ms\n"
     ]
    }
   ],
   "source": [
    "%%time\n",
    "faiss.write_index(index, \"output/white.index\")"
   ]
  },
  {
   "cell_type": "markdown",
   "id": "9e4fdce0-8b0f-4f63-8bbd-478163574507",
   "metadata": {},
   "source": [
    "# Sanity Check"
   ]
  },
  {
   "cell_type": "code",
   "execution_count": 10,
   "id": "4b770d90-a8e2-47c8-9da4-39da0bc46b07",
   "metadata": {},
   "outputs": [
    {
     "name": "stdout",
     "output_type": "stream",
     "text": [
      "ntotal=21222, is_trained=True\n",
      "CPU times: user 1.26 ms, sys: 11.9 ms, total: 13.2 ms\n",
      "Wall time: 18.7 ms\n"
     ]
    }
   ],
   "source": [
    "%%time\n",
    "index = faiss.read_index(\"output/white.index\")\n",
    "print(f\"ntotal={index.ntotal}, is_trained={index.is_trained}\")"
   ]
  },
  {
   "cell_type": "code",
   "execution_count": 11,
   "id": "5e426bac-c0cf-421b-b878-690f03a06e37",
   "metadata": {},
   "outputs": [
    {
     "name": "stdout",
     "output_type": "stream",
     "text": [
      "I=array([[ 0],\n",
      "       [ 1],\n",
      "       [ 2],\n",
      "       [ 3],\n",
      "       [ 4],\n",
      "       [ 5],\n",
      "       [ 6],\n",
      "       [ 7],\n",
      "       [ 8],\n",
      "       [ 9],\n",
      "       [10],\n",
      "       [11],\n",
      "       [12],\n",
      "       [13],\n",
      "       [14],\n",
      "       [15],\n",
      "       [16],\n",
      "       [17],\n",
      "       [18],\n",
      "       [19]])\n",
      "D=array([[1.0000002 ],\n",
      "       [0.99999994],\n",
      "       [1.0000006 ],\n",
      "       [0.99999994],\n",
      "       [1.0000002 ],\n",
      "       [1.0000001 ],\n",
      "       [1.0000004 ],\n",
      "       [1.0000005 ],\n",
      "       [1.0000002 ],\n",
      "       [1.0000001 ],\n",
      "       [1.        ],\n",
      "       [1.0000007 ],\n",
      "       [1.        ],\n",
      "       [1.        ],\n",
      "       [1.0000002 ],\n",
      "       [1.0000005 ],\n",
      "       [1.0000004 ],\n",
      "       [0.99999994],\n",
      "       [1.0000004 ],\n",
      "       [1.0000007 ]], dtype=float32)\n"
     ]
    }
   ],
   "source": [
    "k=1\n",
    "distances, ids = index.search(em[:20], k)  \n",
    "print(f\"I={repr(ids)}\\nD={repr(distances)}\")"
   ]
  },
  {
   "cell_type": "code",
   "execution_count": 12,
   "id": "21c2d11c-1593-4198-8463-93a751d0a37a",
   "metadata": {},
   "outputs": [
    {
     "data": {
      "application/vnd.jupyter.widget-view+json": {
       "model_id": "b0268f8da1db4b909ae3b209211538db",
       "version_major": 2,
       "version_minor": 0
      },
      "text/plain": [
       "Batches:   0%|          | 0/1 [00:00<?, ?it/s]"
      ]
     },
     "metadata": {},
     "output_type": "display_data"
    },
    {
     "name": "stdout",
     "output_type": "stream",
     "text": [
      "q=(21, 768)\n",
      "[(0.31021312, 'baking class'), (0.32608566, 'politician'), (0.3469167, 'activist'), (0.3492005, 'government'), (0.37236774, 'school projects'), (0.46479127, 'cowboy'), (0.48198825, 'cars'), (0.50803983, 'automobile'), (0.5106132, 'planets'), (0.51134557, 'tesla'), (0.52504694, 'mars'), (0.54078025, 'phone'), (0.55978537, 'community service'), (0.5989828, 'school sports'), (0.61108714, 'learning outside the classroom'), (0.6640553, 'distance learning'), (0.6758558, 'school policy'), (0.6805871, 'venus'), (0.6867367, 'school activities'), (0.69437516, 'facial emotion'), (0.7366042, 'asking for advice')]\n"
     ]
    }
   ],
   "source": [
    "queries = [\"phone\", \"mars\", \"venus\", \"school projects\", \"school sports\", \"school activities\", \"cowboy\", \"facial emotion\", \"planets\", \"community service\",\n",
    "          \"cars\", \"automobile\", \"tesla\", \"school policy\", \"politician\", \"government\", \"activist\", \"asking for advice\", \"distance learning\", \"learning outside the classroom\",\n",
    "           \"baking class\", \n",
    "          ]\n",
    "q = model.encode(sentences=queries, batch_size=512, show_progress_bar=True, convert_to_numpy=True)\n",
    "print(f\"q={q.shape}\")\n",
    "faiss.normalize_L2(q)\n",
    "k=1\n",
    "distances, ids = index.search(q, k)\n",
    "distances = distances.flatten()\n",
    "ids = ids.flatten()\n",
    "scores = list(zip(distances, queries))\n",
    "scores.sort()\n",
    "print(scores)"
   ]
  },
  {
   "cell_type": "markdown",
   "id": "33b6a87d-f3f8-4081-8ecf-de3c2cfc9608",
   "metadata": {},
   "source": [
    "# Train/Validation Split"
   ]
  },
  {
   "cell_type": "code",
   "execution_count": 13,
   "id": "faa86096-3b62-4203-a491-f967745f85fc",
   "metadata": {},
   "outputs": [
    {
     "data": {
      "application/vnd.jupyter.widget-view+json": {
       "model_id": "728dd3090bba4ca2a736a19adca99346",
       "version_major": 2,
       "version_minor": 0
      },
      "text/plain": [
       "Batches:   0%|          | 0/86 [00:00<?, ?it/s]"
      ]
     },
     "metadata": {},
     "output_type": "display_data"
    },
    {
     "name": "stdout",
     "output_type": "stream",
     "text": [
      "em=(43529, 768)\n",
      "CPU times: user 32 s, sys: 11.6 s, total: 43.6 s\n",
      "Wall time: 12min 41s\n"
     ]
    }
   ],
   "source": [
    "%%time\n",
    "em = model.encode(sentences=df[\"text_bow\"].tolist(), batch_size=512, show_progress_bar=True, convert_to_numpy=True)\n",
    "faiss.normalize_L2(em)\n",
    "print(f\"em={em.shape}\")"
   ]
  },
  {
   "cell_type": "code",
   "execution_count": 14,
   "id": "da1af840-c6d1-43cb-8c7d-8c4db462fe7f",
   "metadata": {},
   "outputs": [
    {
     "name": "stdout",
     "output_type": "stream",
     "text": [
      "CPU times: user 1.3 s, sys: 77.2 ms, total: 1.38 s\n",
      "Wall time: 556 ms\n"
     ]
    },
    {
     "data": {
      "text/plain": [
       "count    43529.000000\n",
       "mean         0.865916\n",
       "std          0.178425\n",
       "min          0.199636\n",
       "1%           0.416369\n",
       "5%           0.493065\n",
       "10%          0.550357\n",
       "20%          0.674016\n",
       "30%          0.850393\n",
       "40%          0.905675\n",
       "50%          0.946312\n",
       "60%          1.000000\n",
       "70%          1.000000\n",
       "80%          1.000000\n",
       "90%          1.000000\n",
       "95%          1.000000\n",
       "99%          1.000001\n",
       "max          1.000001\n",
       "Name: white_sim, dtype: float64"
      ]
     },
     "execution_count": 14,
     "metadata": {},
     "output_type": "execute_result"
    }
   ],
   "source": [
    "%%time\n",
    "k=1\n",
    "distances, ids = index.search(em, k)  \n",
    "col = \"white_sim\"\n",
    "df[col] = distances.flatten().tolist()\n",
    "df[col] = df[col].astype(np.float32)\n",
    "df[col].describe(percentiles=percentiles)"
   ]
  },
  {
   "cell_type": "markdown",
   "id": "aa2fa5ff-05df-4a6c-9bfa-f25728671bf8",
   "metadata": {},
   "source": [
    "# Review Data"
   ]
  },
  {
   "cell_type": "code",
   "execution_count": 15,
   "id": "647c4d73-1490-4d6c-9735-08cd29a63425",
   "metadata": {},
   "outputs": [
    {
     "name": "stdout",
     "output_type": "stream",
     "text": [
      "<class 'pandas.core.frame.DataFrame'>\n",
      "RangeIndex: 43529 entries, 0 to 43528\n",
      "Data columns (total 12 columns):\n",
      " #   Column          Non-Null Count  Dtype  \n",
      "---  ------          --------------  -----  \n",
      " 0   essay_id        43529 non-null  int32  \n",
      " 1   generated       43529 non-null  int8   \n",
      " 2   source          43529 non-null  object \n",
      " 3   prompt          43529 non-null  object \n",
      " 4   text            43529 non-null  object \n",
      " 5   text_bsc        43529 non-null  object \n",
      " 6   text_bow        43529 non-null  object \n",
      " 7   text_bow_len    43529 non-null  int16  \n",
      " 8   prompt_bsc      43529 non-null  object \n",
      " 9   prompt_bow      43529 non-null  object \n",
      " 10  prompt_bow_len  43529 non-null  int16  \n",
      " 11  white_sim       43529 non-null  float32\n",
      "dtypes: float32(1), int16(2), int32(1), int8(1), object(7)\n",
      "memory usage: 2.9+ MB\n"
     ]
    }
   ],
   "source": [
    "df.info()"
   ]
  },
  {
   "cell_type": "code",
   "execution_count": 16,
   "id": "cb2f6b56-7ad5-4283-8867-ee5f830d7fe1",
   "metadata": {},
   "outputs": [
    {
     "data": {
      "text/html": [
       "<div>\n",
       "<style scoped>\n",
       "    .dataframe tbody tr th:only-of-type {\n",
       "        vertical-align: middle;\n",
       "    }\n",
       "\n",
       "    .dataframe tbody tr th {\n",
       "        vertical-align: top;\n",
       "    }\n",
       "\n",
       "    .dataframe thead th {\n",
       "        text-align: right;\n",
       "    }\n",
       "</style>\n",
       "<table border=\"1\" class=\"dataframe\">\n",
       "  <thead>\n",
       "    <tr style=\"text-align: right;\">\n",
       "      <th></th>\n",
       "      <th>min</th>\n",
       "      <th>median</th>\n",
       "      <th>max</th>\n",
       "    </tr>\n",
       "    <tr>\n",
       "      <th>source</th>\n",
       "      <th></th>\n",
       "      <th></th>\n",
       "      <th></th>\n",
       "    </tr>\n",
       "  </thead>\n",
       "  <tbody>\n",
       "    <tr>\n",
       "      <th>chat_gpt_moth</th>\n",
       "      <td>0.236391</td>\n",
       "      <td>0.602091</td>\n",
       "      <td>0.956580</td>\n",
       "    </tr>\n",
       "    <tr>\n",
       "      <th>darragh_claude_v6</th>\n",
       "      <td>0.753740</td>\n",
       "      <td>0.913299</td>\n",
       "      <td>0.974308</td>\n",
       "    </tr>\n",
       "    <tr>\n",
       "      <th>darragh_claude_v7</th>\n",
       "      <td>0.740141</td>\n",
       "      <td>0.915620</td>\n",
       "      <td>0.972452</td>\n",
       "    </tr>\n",
       "    <tr>\n",
       "      <th>falcon_180b_v1</th>\n",
       "      <td>0.199636</td>\n",
       "      <td>0.656130</td>\n",
       "      <td>0.968698</td>\n",
       "    </tr>\n",
       "    <tr>\n",
       "      <th>llama2_chat</th>\n",
       "      <td>0.278713</td>\n",
       "      <td>0.626164</td>\n",
       "      <td>0.928801</td>\n",
       "    </tr>\n",
       "    <tr>\n",
       "      <th>llama_70b_v1</th>\n",
       "      <td>0.357002</td>\n",
       "      <td>0.665119</td>\n",
       "      <td>0.968314</td>\n",
       "    </tr>\n",
       "    <tr>\n",
       "      <th>mistral7binstruct_v1</th>\n",
       "      <td>0.226915</td>\n",
       "      <td>0.626436</td>\n",
       "      <td>0.937744</td>\n",
       "    </tr>\n",
       "    <tr>\n",
       "      <th>mistral7binstruct_v2</th>\n",
       "      <td>0.242582</td>\n",
       "      <td>0.615960</td>\n",
       "      <td>1.000000</td>\n",
       "    </tr>\n",
       "    <tr>\n",
       "      <th>original_moth</th>\n",
       "      <td>0.301098</td>\n",
       "      <td>0.608155</td>\n",
       "      <td>0.996677</td>\n",
       "    </tr>\n",
       "    <tr>\n",
       "      <th>persuade_corpus</th>\n",
       "      <td>0.491546</td>\n",
       "      <td>1.000000</td>\n",
       "      <td>1.000001</td>\n",
       "    </tr>\n",
       "    <tr>\n",
       "      <th>radek_500</th>\n",
       "      <td>0.806280</td>\n",
       "      <td>0.916214</td>\n",
       "      <td>0.965763</td>\n",
       "    </tr>\n",
       "    <tr>\n",
       "      <th>train_essays</th>\n",
       "      <td>0.853999</td>\n",
       "      <td>1.000000</td>\n",
       "      <td>1.000001</td>\n",
       "    </tr>\n",
       "  </tbody>\n",
       "</table>\n",
       "</div>"
      ],
      "text/plain": [
       "                           min    median       max\n",
       "source                                            \n",
       "chat_gpt_moth         0.236391  0.602091  0.956580\n",
       "darragh_claude_v6     0.753740  0.913299  0.974308\n",
       "darragh_claude_v7     0.740141  0.915620  0.972452\n",
       "falcon_180b_v1        0.199636  0.656130  0.968698\n",
       "llama2_chat           0.278713  0.626164  0.928801\n",
       "llama_70b_v1          0.357002  0.665119  0.968314\n",
       "mistral7binstruct_v1  0.226915  0.626436  0.937744\n",
       "mistral7binstruct_v2  0.242582  0.615960  1.000000\n",
       "original_moth         0.301098  0.608155  0.996677\n",
       "persuade_corpus       0.491546  1.000000  1.000001\n",
       "radek_500             0.806280  0.916214  0.965763\n",
       "train_essays          0.853999  1.000000  1.000001"
      ]
     },
     "execution_count": 16,
     "metadata": {},
     "output_type": "execute_result"
    }
   ],
   "source": [
    "df.groupby([\"source\"])[\"white_sim\"].agg([\"min\", \"median\", \"max\"])"
   ]
  },
  {
   "cell_type": "code",
   "execution_count": 17,
   "id": "9d58e198-46d3-4f03-8605-cea08824d8c0",
   "metadata": {},
   "outputs": [
    {
     "data": {
      "text/html": [
       "<div>\n",
       "<style scoped>\n",
       "    .dataframe tbody tr th:only-of-type {\n",
       "        vertical-align: middle;\n",
       "    }\n",
       "\n",
       "    .dataframe tbody tr th {\n",
       "        vertical-align: top;\n",
       "    }\n",
       "\n",
       "    .dataframe thead th {\n",
       "        text-align: right;\n",
       "    }\n",
       "</style>\n",
       "<table border=\"1\" class=\"dataframe\">\n",
       "  <thead>\n",
       "    <tr style=\"text-align: right;\">\n",
       "      <th></th>\n",
       "      <th>min</th>\n",
       "      <th>median</th>\n",
       "      <th>max</th>\n",
       "    </tr>\n",
       "    <tr>\n",
       "      <th>generated</th>\n",
       "      <th></th>\n",
       "      <th></th>\n",
       "      <th></th>\n",
       "    </tr>\n",
       "  </thead>\n",
       "  <tbody>\n",
       "    <tr>\n",
       "      <th>0</th>\n",
       "      <td>0.301098</td>\n",
       "      <td>1.000000</td>\n",
       "      <td>1.000001</td>\n",
       "    </tr>\n",
       "    <tr>\n",
       "      <th>1</th>\n",
       "      <td>0.199636</td>\n",
       "      <td>0.668244</td>\n",
       "      <td>1.000000</td>\n",
       "    </tr>\n",
       "  </tbody>\n",
       "</table>\n",
       "</div>"
      ],
      "text/plain": [
       "                min    median       max\n",
       "generated                              \n",
       "0          0.301098  1.000000  1.000001\n",
       "1          0.199636  0.668244  1.000000"
      ]
     },
     "execution_count": 17,
     "metadata": {},
     "output_type": "execute_result"
    }
   ],
   "source": [
    "df.groupby([\"generated\"])[\"white_sim\"].agg([\"min\", \"median\", \"max\"])"
   ]
  },
  {
   "cell_type": "code",
   "execution_count": 18,
   "id": "a11badc7-087d-4620-a360-f9c98a02b595",
   "metadata": {},
   "outputs": [
    {
     "name": "stdout",
     "output_type": "stream",
     "text": [
      "CPU times: user 613 ms, sys: 93.2 ms, total: 706 ms\n",
      "Wall time: 759 ms\n"
     ]
    }
   ],
   "source": [
    "%%time\n",
    "df.to_parquet(f\"output/white.parquet\", index=False)\n",
    "assert df.notna().all(axis=None)"
   ]
  },
  {
   "cell_type": "code",
   "execution_count": 19,
   "id": "e382f100-4573-4d88-b16e-f62fbcb39558",
   "metadata": {},
   "outputs": [
    {
     "name": "stdout",
     "output_type": "stream",
     "text": [
      "Total time taken 0:18:47.366334\n"
     ]
    }
   ],
   "source": [
    "tim.stop()\n",
    "print(f\"Total time taken {str(tim.elapsed)}\")"
   ]
  }
 ],
 "metadata": {
  "kernelspec": {
   "display_name": "Python 3 (ipykernel)",
   "language": "python",
   "name": "python3"
  },
  "language_info": {
   "codemirror_mode": {
    "name": "ipython",
    "version": 3
   },
   "file_extension": ".py",
   "mimetype": "text/x-python",
   "name": "python",
   "nbconvert_exporter": "python",
   "pygments_lexer": "ipython3",
   "version": "3.11.7"
  }
 },
 "nbformat": 4,
 "nbformat_minor": 5
}
