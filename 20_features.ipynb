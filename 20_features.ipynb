{
 "cells": [
  {
   "cell_type": "code",
   "execution_count": 1,
   "id": "cff5300e-c9c0-4a43-92b0-60250bf82f59",
   "metadata": {},
   "outputs": [
    {
     "name": "stdout",
     "output_type": "stream",
     "text": [
      "int16, min=-32768, max=32767\n"
     ]
    }
   ],
   "source": [
    "import os\n",
    "import json\n",
    "import gc\n",
    "from pathlib import Path\n",
    "import numpy as np\n",
    "import pandas as pd\n",
    "from tqdm import tqdm\n",
    "from transformers import AutoTokenizer\n",
    "from typing import Dict, List, Set, Tuple, NamedTuple, Callable\n",
    "import scipy\n",
    "import scml\n",
    "from scml import pandasx as pdx\n",
    "from daigt.preprocess import en as pen\n",
    "tim = scml.Timer()\n",
    "tim.start()\n",
    "os.environ[\"TOKENIZERS_PARALLELISM\"] = \"false\"\n",
    "percentiles=[.01, .05, .1, .2, .3, .4, .5, .6, .7, .8, .9, .95, .99]\n",
    "pd.set_option(\"use_inf_as_na\", True)\n",
    "pd.set_option(\"max_info_columns\", 9999)\n",
    "pd.set_option(\"display.max_columns\", 9999)\n",
    "pd.set_option(\"display.max_rows\", 9999)\n",
    "pd.set_option('max_colwidth', 9999)\n",
    "tqdm.pandas()\n",
    "scml.seed_everything()\n",
    "info = np.iinfo(np.int16)\n",
    "print(f\"int16, min={info.min}, max={info.max}\")"
   ]
  },
  {
   "cell_type": "code",
   "execution_count": 2,
   "id": "13dc2404-e717-4dd1-8915-0b08676a95a6",
   "metadata": {},
   "outputs": [],
   "source": [
    "text_col = \"text_bsc\""
   ]
  },
  {
   "cell_type": "code",
   "execution_count": 3,
   "id": "72573094-d7dc-4923-9d9d-83c03efde41f",
   "metadata": {},
   "outputs": [
    {
     "name": "stdout",
     "output_type": "stream",
     "text": [
      "<class 'pandas.core.frame.DataFrame'>\n",
      "RangeIndex: 39515 entries, 0 to 39514\n",
      "Data columns (total 11 columns):\n",
      " #   Column          Non-Null Count  Dtype \n",
      "---  ------          --------------  ----- \n",
      " 0   essay_id        39515 non-null  int64 \n",
      " 1   generated       39515 non-null  int8  \n",
      " 2   source          39515 non-null  object\n",
      " 3   prompt          39515 non-null  object\n",
      " 4   text            39515 non-null  object\n",
      " 5   text_bsc        39515 non-null  object\n",
      " 6   text_bow        39515 non-null  object\n",
      " 7   text_bow_len    39515 non-null  int32 \n",
      " 8   prompt_bsc      39515 non-null  object\n",
      " 9   prompt_bow      39515 non-null  object\n",
      " 10  prompt_bow_len  39515 non-null  int32 \n",
      "dtypes: int32(2), int64(1), int8(1), object(7)\n",
      "memory usage: 2.8+ MB\n"
     ]
    }
   ],
   "source": [
    "df = pd.read_parquet(\"input/preprocess.parquet\")\n",
    "df.info()"
   ]
  },
  {
   "cell_type": "markdown",
   "id": "4ea84938-104d-43b1-b700-de8f41bb3239",
   "metadata": {},
   "source": [
    "# Character level features"
   ]
  },
  {
   "cell_type": "code",
   "execution_count": 4,
   "id": "697d108b-3d9d-4095-b39c-a26dfde04fc5",
   "metadata": {},
   "outputs": [
    {
     "name": "stdout",
     "output_type": "stream",
     "text": [
      "ch_digit_frac\n"
     ]
    },
    {
     "name": "stderr",
     "output_type": "stream",
     "text": [
      "100%|██████████████████████████████████████████████████████████████████████████████████████████████████████████████████████████████████████████████████████████████████████████████████████████████████████████| 39515/39515 [00:01<00:00, 22320.63it/s]\n"
     ]
    },
    {
     "name": "stdout",
     "output_type": "stream",
     "text": [
      "ch_letter_frac\n"
     ]
    },
    {
     "name": "stderr",
     "output_type": "stream",
     "text": [
      "100%|██████████████████████████████████████████████████████████████████████████████████████████████████████████████████████████████████████████████████████████████████████████████████████████████████████████| 39515/39515 [00:01<00:00, 20269.40it/s]\n"
     ]
    },
    {
     "name": "stdout",
     "output_type": "stream",
     "text": [
      "ch_space_frac\n"
     ]
    },
    {
     "name": "stderr",
     "output_type": "stream",
     "text": [
      "100%|██████████████████████████████████████████████████████████████████████████████████████████████████████████████████████████████████████████████████████████████████████████████████████████████████████████| 39515/39515 [00:01<00:00, 21624.93it/s]\n"
     ]
    },
    {
     "name": "stdout",
     "output_type": "stream",
     "text": [
      "ch_punc_frac\n"
     ]
    },
    {
     "name": "stderr",
     "output_type": "stream",
     "text": [
      "100%|██████████████████████████████████████████████████████████████████████████████████████████████████████████████████████████████████████████████████████████████████████████████████████████████████████████| 39515/39515 [00:01<00:00, 21839.48it/s]\n"
     ]
    },
    {
     "name": "stdout",
     "output_type": "stream",
     "text": [
      "ch_upper_frac\n"
     ]
    },
    {
     "name": "stderr",
     "output_type": "stream",
     "text": [
      "100%|██████████████████████████████████████████████████████████████████████████████████████████████████████████████████████████████████████████████████████████████████████████████████████████████████████████| 39515/39515 [00:01<00:00, 22365.99it/s]\n"
     ]
    },
    {
     "name": "stdout",
     "output_type": "stream",
     "text": [
      "ch_repeat_char_frac\n"
     ]
    },
    {
     "name": "stderr",
     "output_type": "stream",
     "text": [
      "100%|███████████████████████████████████████████████████████████████████████████████████████████████████████████████████████████████████████████████████████████████████████████████████████████████████████████| 39515/39515 [00:05<00:00, 7412.32it/s]\n"
     ]
    },
    {
     "name": "stdout",
     "output_type": "stream",
     "text": [
      "ch_repeat_substring_frac\n"
     ]
    },
    {
     "name": "stderr",
     "output_type": "stream",
     "text": [
      "100%|█████████████████████████████████████████████████████████████████████████████████████████████████████████████████████████████████████████████████████████████████████████████████████████████████████████████| 39515/39515 [35:14<00:00, 18.69it/s]"
     ]
    },
    {
     "name": "stdout",
     "output_type": "stream",
     "text": [
      "CPU times: user 35min 22s, sys: 4.17 s, total: 35min 26s\n",
      "Wall time: 35min 28s\n"
     ]
    },
    {
     "name": "stderr",
     "output_type": "stream",
     "text": [
      "\n"
     ]
    }
   ],
   "source": [
    "%%time\n",
    "col = \"ch_len\"\n",
    "df[col] = df[text_col].str.len()\n",
    "df[col] = df[col].astype(np.int32)\n",
    "\n",
    "def digit_frac(row) -> float:\n",
    "    return pen.digit_frac(row[text_col])\n",
    "\n",
    "\n",
    "def letter_frac(row) -> float:\n",
    "    return pen.letter_frac(row[text_col])\n",
    "\n",
    "\n",
    "def space_frac(row) -> float:\n",
    "    return pen.space_frac(row[text_col])\n",
    "\n",
    "\n",
    "def punc_frac(row) -> float:\n",
    "    return pen.punc_frac(row[text_col])\n",
    "\n",
    "\n",
    "def upper_frac(row) -> float:\n",
    "    return pen.upper_frac(row[text_col])\n",
    "\n",
    "\n",
    "def repeat_char_frac(row) -> float:\n",
    "    return pen.repeat_char_frac(row[text_col])\n",
    "\n",
    "\n",
    "def repeat_substring_frac(row) -> float:\n",
    "    return pen.repeat_substring_frac(row[text_col])\n",
    "\n",
    "\n",
    "char_fns: Dict[str, Callable] = {\n",
    "    \"ch_digit_frac\": digit_frac,\n",
    "    \"ch_letter_frac\": letter_frac,\n",
    "    \"ch_space_frac\": space_frac,\n",
    "    \"ch_punc_frac\": punc_frac,\n",
    "    \"ch_upper_frac\": upper_frac,\n",
    "    \"ch_repeat_char_frac\": repeat_char_frac,\n",
    "    \"ch_repeat_substring_frac\": repeat_substring_frac,\n",
    "}\n",
    "\n",
    "for col, fn in char_fns.items():\n",
    "    print(col)\n",
    "    df[col] = df.progress_apply(fn, axis=1)\n",
    "    df[col] = df[col].astype(np.float32)"
   ]
  },
  {
   "cell_type": "markdown",
   "id": "071b34fe-f4ef-463b-9e60-46e9bd075a50",
   "metadata": {},
   "source": [
    "# Review Data"
   ]
  },
  {
   "cell_type": "code",
   "execution_count": 5,
   "id": "2c4caa11-a586-4f23-a56e-649b87b9a929",
   "metadata": {},
   "outputs": [
    {
     "name": "stdout",
     "output_type": "stream",
     "text": [
      "<class 'pandas.core.frame.DataFrame'>\n",
      "RangeIndex: 39515 entries, 0 to 39514\n",
      "Data columns (total 19 columns):\n",
      " #   Column                    Non-Null Count  Dtype  \n",
      "---  ------                    --------------  -----  \n",
      " 0   essay_id                  39515 non-null  int64  \n",
      " 1   generated                 39515 non-null  int8   \n",
      " 2   source                    39515 non-null  object \n",
      " 3   prompt                    39515 non-null  object \n",
      " 4   text                      39515 non-null  object \n",
      " 5   text_bsc                  39515 non-null  object \n",
      " 6   text_bow                  39515 non-null  object \n",
      " 7   text_bow_len              39515 non-null  int32  \n",
      " 8   prompt_bsc                39515 non-null  object \n",
      " 9   prompt_bow                39515 non-null  object \n",
      " 10  prompt_bow_len            39515 non-null  int32  \n",
      " 11  ch_len                    39515 non-null  int32  \n",
      " 12  ch_digit_frac             39515 non-null  float32\n",
      " 13  ch_letter_frac            39515 non-null  float32\n",
      " 14  ch_space_frac             39515 non-null  float32\n",
      " 15  ch_punc_frac              39515 non-null  float32\n",
      " 16  ch_upper_frac             39515 non-null  float32\n",
      " 17  ch_repeat_char_frac       39515 non-null  float32\n",
      " 18  ch_repeat_substring_frac  39515 non-null  float32\n",
      "dtypes: float32(7), int32(3), int64(1), int8(1), object(7)\n",
      "memory usage: 4.0+ MB\n"
     ]
    }
   ],
   "source": [
    "df.info()"
   ]
  },
  {
   "cell_type": "code",
   "execution_count": 6,
   "id": "e6cb4ec5-0c5c-47b1-b0d9-227d36f62a7e",
   "metadata": {},
   "outputs": [
    {
     "data": {
      "text/html": [
       "<div>\n",
       "<style scoped>\n",
       "    .dataframe tbody tr th:only-of-type {\n",
       "        vertical-align: middle;\n",
       "    }\n",
       "\n",
       "    .dataframe tbody tr th {\n",
       "        vertical-align: top;\n",
       "    }\n",
       "\n",
       "    .dataframe thead th {\n",
       "        text-align: right;\n",
       "    }\n",
       "</style>\n",
       "<table border=\"1\" class=\"dataframe\">\n",
       "  <thead>\n",
       "    <tr style=\"text-align: right;\">\n",
       "      <th></th>\n",
       "      <th>essay_id</th>\n",
       "      <th>generated</th>\n",
       "      <th>text_bow_len</th>\n",
       "      <th>prompt_bow_len</th>\n",
       "      <th>ch_len</th>\n",
       "      <th>ch_digit_frac</th>\n",
       "      <th>ch_letter_frac</th>\n",
       "      <th>ch_space_frac</th>\n",
       "      <th>ch_punc_frac</th>\n",
       "      <th>ch_upper_frac</th>\n",
       "      <th>ch_repeat_char_frac</th>\n",
       "      <th>ch_repeat_substring_frac</th>\n",
       "    </tr>\n",
       "  </thead>\n",
       "  <tbody>\n",
       "    <tr>\n",
       "      <th>count</th>\n",
       "      <td>39515.00000</td>\n",
       "      <td>39515.000000</td>\n",
       "      <td>39515.000000</td>\n",
       "      <td>39515.000000</td>\n",
       "      <td>39515.000000</td>\n",
       "      <td>39515.000000</td>\n",
       "      <td>39515.000000</td>\n",
       "      <td>39515.000000</td>\n",
       "      <td>39515.000000</td>\n",
       "      <td>39515.000000</td>\n",
       "      <td>39515.000000</td>\n",
       "      <td>39515.000000</td>\n",
       "    </tr>\n",
       "    <tr>\n",
       "      <th>mean</th>\n",
       "      <td>19757.00000</td>\n",
       "      <td>0.252891</td>\n",
       "      <td>2195.112818</td>\n",
       "      <td>87.917854</td>\n",
       "      <td>2229.710085</td>\n",
       "      <td>0.001559</td>\n",
       "      <td>0.799730</td>\n",
       "      <td>0.177670</td>\n",
       "      <td>0.021042</td>\n",
       "      <td>0.015673</td>\n",
       "      <td>0.017053</td>\n",
       "      <td>0.002284</td>\n",
       "    </tr>\n",
       "    <tr>\n",
       "      <th>std</th>\n",
       "      <td>11407.14228</td>\n",
       "      <td>0.434675</td>\n",
       "      <td>1006.480680</td>\n",
       "      <td>161.061500</td>\n",
       "      <td>1022.272265</td>\n",
       "      <td>0.003094</td>\n",
       "      <td>0.015733</td>\n",
       "      <td>0.013207</td>\n",
       "      <td>0.008840</td>\n",
       "      <td>0.016745</td>\n",
       "      <td>0.005114</td>\n",
       "      <td>0.008225</td>\n",
       "    </tr>\n",
       "    <tr>\n",
       "      <th>min</th>\n",
       "      <td>0.00000</td>\n",
       "      <td>0.000000</td>\n",
       "      <td>234.000000</td>\n",
       "      <td>2.000000</td>\n",
       "      <td>238.000000</td>\n",
       "      <td>0.000000</td>\n",
       "      <td>0.501969</td>\n",
       "      <td>0.005906</td>\n",
       "      <td>0.000000</td>\n",
       "      <td>0.000000</td>\n",
       "      <td>0.000890</td>\n",
       "      <td>0.000000</td>\n",
       "    </tr>\n",
       "    <tr>\n",
       "      <th>1%</th>\n",
       "      <td>395.14000</td>\n",
       "      <td>0.000000</td>\n",
       "      <td>773.000000</td>\n",
       "      <td>2.000000</td>\n",
       "      <td>784.140000</td>\n",
       "      <td>0.000000</td>\n",
       "      <td>0.759425</td>\n",
       "      <td>0.147226</td>\n",
       "      <td>0.007119</td>\n",
       "      <td>0.002213</td>\n",
       "      <td>0.007046</td>\n",
       "      <td>0.000000</td>\n",
       "    </tr>\n",
       "    <tr>\n",
       "      <th>5%</th>\n",
       "      <td>1975.70000</td>\n",
       "      <td>0.000000</td>\n",
       "      <td>951.000000</td>\n",
       "      <td>2.000000</td>\n",
       "      <td>964.000000</td>\n",
       "      <td>0.000000</td>\n",
       "      <td>0.773998</td>\n",
       "      <td>0.154341</td>\n",
       "      <td>0.010773</td>\n",
       "      <td>0.006222</td>\n",
       "      <td>0.009468</td>\n",
       "      <td>0.000000</td>\n",
       "    </tr>\n",
       "    <tr>\n",
       "      <th>10%</th>\n",
       "      <td>3951.40000</td>\n",
       "      <td>0.000000</td>\n",
       "      <td>1100.000000</td>\n",
       "      <td>2.000000</td>\n",
       "      <td>1116.000000</td>\n",
       "      <td>0.000000</td>\n",
       "      <td>0.780463</td>\n",
       "      <td>0.159455</td>\n",
       "      <td>0.012694</td>\n",
       "      <td>0.007421</td>\n",
       "      <td>0.010953</td>\n",
       "      <td>0.000000</td>\n",
       "    </tr>\n",
       "    <tr>\n",
       "      <th>20%</th>\n",
       "      <td>7902.80000</td>\n",
       "      <td>0.000000</td>\n",
       "      <td>1359.000000</td>\n",
       "      <td>2.000000</td>\n",
       "      <td>1380.000000</td>\n",
       "      <td>0.000000</td>\n",
       "      <td>0.787473</td>\n",
       "      <td>0.166591</td>\n",
       "      <td>0.015101</td>\n",
       "      <td>0.008875</td>\n",
       "      <td>0.012829</td>\n",
       "      <td>0.000000</td>\n",
       "    </tr>\n",
       "    <tr>\n",
       "      <th>30%</th>\n",
       "      <td>11854.20000</td>\n",
       "      <td>0.000000</td>\n",
       "      <td>1582.000000</td>\n",
       "      <td>2.000000</td>\n",
       "      <td>1606.000000</td>\n",
       "      <td>0.000000</td>\n",
       "      <td>0.792067</td>\n",
       "      <td>0.171273</td>\n",
       "      <td>0.016771</td>\n",
       "      <td>0.010243</td>\n",
       "      <td>0.014262</td>\n",
       "      <td>0.000000</td>\n",
       "    </tr>\n",
       "    <tr>\n",
       "      <th>40%</th>\n",
       "      <td>15805.60000</td>\n",
       "      <td>0.000000</td>\n",
       "      <td>1792.000000</td>\n",
       "      <td>2.000000</td>\n",
       "      <td>1822.000000</td>\n",
       "      <td>0.000000</td>\n",
       "      <td>0.795972</td>\n",
       "      <td>0.175124</td>\n",
       "      <td>0.018211</td>\n",
       "      <td>0.011763</td>\n",
       "      <td>0.015480</td>\n",
       "      <td>0.001138</td>\n",
       "    </tr>\n",
       "    <tr>\n",
       "      <th>50%</th>\n",
       "      <td>19757.00000</td>\n",
       "      <td>0.000000</td>\n",
       "      <td>2009.000000</td>\n",
       "      <td>2.000000</td>\n",
       "      <td>2040.000000</td>\n",
       "      <td>0.000000</td>\n",
       "      <td>0.799591</td>\n",
       "      <td>0.178448</td>\n",
       "      <td>0.019638</td>\n",
       "      <td>0.013436</td>\n",
       "      <td>0.016684</td>\n",
       "      <td>0.001614</td>\n",
       "    </tr>\n",
       "    <tr>\n",
       "      <th>60%</th>\n",
       "      <td>23708.40000</td>\n",
       "      <td>0.000000</td>\n",
       "      <td>2245.000000</td>\n",
       "      <td>2.000000</td>\n",
       "      <td>2282.000000</td>\n",
       "      <td>0.000512</td>\n",
       "      <td>0.803353</td>\n",
       "      <td>0.181607</td>\n",
       "      <td>0.021177</td>\n",
       "      <td>0.015454</td>\n",
       "      <td>0.017917</td>\n",
       "      <td>0.002137</td>\n",
       "    </tr>\n",
       "    <tr>\n",
       "      <th>70%</th>\n",
       "      <td>27659.80000</td>\n",
       "      <td>0.000000</td>\n",
       "      <td>2494.000000</td>\n",
       "      <td>2.000000</td>\n",
       "      <td>2534.000000</td>\n",
       "      <td>0.001340</td>\n",
       "      <td>0.807602</td>\n",
       "      <td>0.184936</td>\n",
       "      <td>0.023012</td>\n",
       "      <td>0.017955</td>\n",
       "      <td>0.019346</td>\n",
       "      <td>0.002772</td>\n",
       "    </tr>\n",
       "    <tr>\n",
       "      <th>80%</th>\n",
       "      <td>31611.20000</td>\n",
       "      <td>1.000000</td>\n",
       "      <td>2867.000000</td>\n",
       "      <td>201.000000</td>\n",
       "      <td>2910.000000</td>\n",
       "      <td>0.002616</td>\n",
       "      <td>0.812964</td>\n",
       "      <td>0.188704</td>\n",
       "      <td>0.025450</td>\n",
       "      <td>0.021217</td>\n",
       "      <td>0.021044</td>\n",
       "      <td>0.003628</td>\n",
       "    </tr>\n",
       "    <tr>\n",
       "      <th>90%</th>\n",
       "      <td>35562.60000</td>\n",
       "      <td>1.000000</td>\n",
       "      <td>3556.000000</td>\n",
       "      <td>373.000000</td>\n",
       "      <td>3610.000000</td>\n",
       "      <td>0.004981</td>\n",
       "      <td>0.820450</td>\n",
       "      <td>0.194000</td>\n",
       "      <td>0.030048</td>\n",
       "      <td>0.026169</td>\n",
       "      <td>0.023601</td>\n",
       "      <td>0.005159</td>\n",
       "    </tr>\n",
       "    <tr>\n",
       "      <th>95%</th>\n",
       "      <td>37538.30000</td>\n",
       "      <td>1.000000</td>\n",
       "      <td>4200.300000</td>\n",
       "      <td>483.000000</td>\n",
       "      <td>4271.300000</td>\n",
       "      <td>0.007678</td>\n",
       "      <td>0.825559</td>\n",
       "      <td>0.198297</td>\n",
       "      <td>0.036674</td>\n",
       "      <td>0.030511</td>\n",
       "      <td>0.025766</td>\n",
       "      <td>0.006803</td>\n",
       "    </tr>\n",
       "    <tr>\n",
       "      <th>99%</th>\n",
       "      <td>39118.86000</td>\n",
       "      <td>1.000000</td>\n",
       "      <td>5600.440000</td>\n",
       "      <td>618.000000</td>\n",
       "      <td>5677.580000</td>\n",
       "      <td>0.013741</td>\n",
       "      <td>0.833068</td>\n",
       "      <td>0.206817</td>\n",
       "      <td>0.052888</td>\n",
       "      <td>0.041330</td>\n",
       "      <td>0.030341</td>\n",
       "      <td>0.011359</td>\n",
       "    </tr>\n",
       "    <tr>\n",
       "      <th>max</th>\n",
       "      <td>39514.00000</td>\n",
       "      <td>1.000000</td>\n",
       "      <td>9090.000000</td>\n",
       "      <td>618.000000</td>\n",
       "      <td>9151.000000</td>\n",
       "      <td>0.141379</td>\n",
       "      <td>0.850112</td>\n",
       "      <td>0.239264</td>\n",
       "      <td>0.492126</td>\n",
       "      <td>0.812250</td>\n",
       "      <td>0.194113</td>\n",
       "      <td>0.833437</td>\n",
       "    </tr>\n",
       "  </tbody>\n",
       "</table>\n",
       "</div>"
      ],
      "text/plain": [
       "          essay_id     generated  text_bow_len  prompt_bow_len        ch_len  \\\n",
       "count  39515.00000  39515.000000  39515.000000    39515.000000  39515.000000   \n",
       "mean   19757.00000      0.252891   2195.112818       87.917854   2229.710085   \n",
       "std    11407.14228      0.434675   1006.480680      161.061500   1022.272265   \n",
       "min        0.00000      0.000000    234.000000        2.000000    238.000000   \n",
       "1%       395.14000      0.000000    773.000000        2.000000    784.140000   \n",
       "5%      1975.70000      0.000000    951.000000        2.000000    964.000000   \n",
       "10%     3951.40000      0.000000   1100.000000        2.000000   1116.000000   \n",
       "20%     7902.80000      0.000000   1359.000000        2.000000   1380.000000   \n",
       "30%    11854.20000      0.000000   1582.000000        2.000000   1606.000000   \n",
       "40%    15805.60000      0.000000   1792.000000        2.000000   1822.000000   \n",
       "50%    19757.00000      0.000000   2009.000000        2.000000   2040.000000   \n",
       "60%    23708.40000      0.000000   2245.000000        2.000000   2282.000000   \n",
       "70%    27659.80000      0.000000   2494.000000        2.000000   2534.000000   \n",
       "80%    31611.20000      1.000000   2867.000000      201.000000   2910.000000   \n",
       "90%    35562.60000      1.000000   3556.000000      373.000000   3610.000000   \n",
       "95%    37538.30000      1.000000   4200.300000      483.000000   4271.300000   \n",
       "99%    39118.86000      1.000000   5600.440000      618.000000   5677.580000   \n",
       "max    39514.00000      1.000000   9090.000000      618.000000   9151.000000   \n",
       "\n",
       "       ch_digit_frac  ch_letter_frac  ch_space_frac  ch_punc_frac  \\\n",
       "count   39515.000000    39515.000000   39515.000000  39515.000000   \n",
       "mean        0.001559        0.799730       0.177670      0.021042   \n",
       "std         0.003094        0.015733       0.013207      0.008840   \n",
       "min         0.000000        0.501969       0.005906      0.000000   \n",
       "1%          0.000000        0.759425       0.147226      0.007119   \n",
       "5%          0.000000        0.773998       0.154341      0.010773   \n",
       "10%         0.000000        0.780463       0.159455      0.012694   \n",
       "20%         0.000000        0.787473       0.166591      0.015101   \n",
       "30%         0.000000        0.792067       0.171273      0.016771   \n",
       "40%         0.000000        0.795972       0.175124      0.018211   \n",
       "50%         0.000000        0.799591       0.178448      0.019638   \n",
       "60%         0.000512        0.803353       0.181607      0.021177   \n",
       "70%         0.001340        0.807602       0.184936      0.023012   \n",
       "80%         0.002616        0.812964       0.188704      0.025450   \n",
       "90%         0.004981        0.820450       0.194000      0.030048   \n",
       "95%         0.007678        0.825559       0.198297      0.036674   \n",
       "99%         0.013741        0.833068       0.206817      0.052888   \n",
       "max         0.141379        0.850112       0.239264      0.492126   \n",
       "\n",
       "       ch_upper_frac  ch_repeat_char_frac  ch_repeat_substring_frac  \n",
       "count   39515.000000         39515.000000              39515.000000  \n",
       "mean        0.015673             0.017053                  0.002284  \n",
       "std         0.016745             0.005114                  0.008225  \n",
       "min         0.000000             0.000890                  0.000000  \n",
       "1%          0.002213             0.007046                  0.000000  \n",
       "5%          0.006222             0.009468                  0.000000  \n",
       "10%         0.007421             0.010953                  0.000000  \n",
       "20%         0.008875             0.012829                  0.000000  \n",
       "30%         0.010243             0.014262                  0.000000  \n",
       "40%         0.011763             0.015480                  0.001138  \n",
       "50%         0.013436             0.016684                  0.001614  \n",
       "60%         0.015454             0.017917                  0.002137  \n",
       "70%         0.017955             0.019346                  0.002772  \n",
       "80%         0.021217             0.021044                  0.003628  \n",
       "90%         0.026169             0.023601                  0.005159  \n",
       "95%         0.030511             0.025766                  0.006803  \n",
       "99%         0.041330             0.030341                  0.011359  \n",
       "max         0.812250             0.194113                  0.833437  "
      ]
     },
     "execution_count": 6,
     "metadata": {},
     "output_type": "execute_result"
    }
   ],
   "source": [
    "df.describe(percentiles=percentiles)"
   ]
  },
  {
   "cell_type": "code",
   "execution_count": 7,
   "id": "60744d80-59d6-4bcb-8a95-ce40af7a0bc6",
   "metadata": {},
   "outputs": [
    {
     "name": "stdout",
     "output_type": "stream",
     "text": [
      "CPU times: user 538 ms, sys: 47 ms, total: 585 ms\n",
      "Wall time: 587 ms\n"
     ]
    }
   ],
   "source": [
    "%%time\n",
    "df.to_parquet(f\"output/features.parquet\", index=False)\n",
    "assert df.notna().all(axis=None)"
   ]
  },
  {
   "cell_type": "code",
   "execution_count": 8,
   "id": "5ff172ad-3ad0-443a-a412-d95488d44bda",
   "metadata": {},
   "outputs": [
    {
     "name": "stdout",
     "output_type": "stream",
     "text": [
      "Total time taken 0:35:29.821422\n"
     ]
    }
   ],
   "source": [
    "tim.stop()\n",
    "print(f\"Total time taken {str(tim.elapsed)}\")"
   ]
  }
 ],
 "metadata": {
  "kernelspec": {
   "display_name": "Python 3 (ipykernel)",
   "language": "python",
   "name": "python3"
  },
  "language_info": {
   "codemirror_mode": {
    "name": "ipython",
    "version": 3
   },
   "file_extension": ".py",
   "mimetype": "text/x-python",
   "name": "python",
   "nbconvert_exporter": "python",
   "pygments_lexer": "ipython3",
   "version": "3.11.7"
  }
 },
 "nbformat": 4,
 "nbformat_minor": 5
}
