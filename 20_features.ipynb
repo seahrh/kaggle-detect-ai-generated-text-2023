{
 "cells": [
  {
   "cell_type": "code",
   "execution_count": 1,
   "id": "cff5300e-c9c0-4a43-92b0-60250bf82f59",
   "metadata": {},
   "outputs": [
    {
     "name": "stdout",
     "output_type": "stream",
     "text": [
      "int16, min=-32768, max=32767\n"
     ]
    }
   ],
   "source": [
    "import os\n",
    "import json\n",
    "import gc\n",
    "from pathlib import Path\n",
    "import numpy as np\n",
    "import pandas as pd\n",
    "from tqdm import tqdm\n",
    "from transformers import AutoTokenizer\n",
    "from typing import Dict, List, Set, Tuple, NamedTuple, Callable\n",
    "import scipy\n",
    "import scml\n",
    "from scml import pandasx as pdx\n",
    "from daigt.preprocess import en as pen\n",
    "tim = scml.Timer()\n",
    "tim.start()\n",
    "os.environ[\"TOKENIZERS_PARALLELISM\"] = \"false\"\n",
    "percentiles=[.01, .05, .1, .2, .3, .4, .5, .6, .7, .8, .9, .95, .99]\n",
    "pd.set_option(\"use_inf_as_na\", True)\n",
    "pd.set_option(\"max_info_columns\", 9999)\n",
    "pd.set_option(\"display.max_columns\", 9999)\n",
    "pd.set_option(\"display.max_rows\", 9999)\n",
    "pd.set_option('max_colwidth', 9999)\n",
    "tqdm.pandas()\n",
    "scml.seed_everything()\n",
    "info = np.iinfo(np.int16)\n",
    "print(f\"int16, min={info.min}, max={info.max}\")"
   ]
  },
  {
   "cell_type": "code",
   "execution_count": 2,
   "id": "13dc2404-e717-4dd1-8915-0b08676a95a6",
   "metadata": {},
   "outputs": [],
   "source": [
    "text_col = \"text_bsc\""
   ]
  },
  {
   "cell_type": "code",
   "execution_count": 3,
   "id": "72573094-d7dc-4923-9d9d-83c03efde41f",
   "metadata": {},
   "outputs": [
    {
     "name": "stdout",
     "output_type": "stream",
     "text": [
      "<class 'pandas.core.frame.DataFrame'>\n",
      "RangeIndex: 1378 entries, 0 to 1377\n",
      "Data columns (total 7 columns):\n",
      " #   Column        Non-Null Count  Dtype \n",
      "---  ------        --------------  ----- \n",
      " 0   id            1378 non-null   object\n",
      " 1   prompt_id     1378 non-null   int64 \n",
      " 2   text          1378 non-null   object\n",
      " 3   generated     1378 non-null   int8  \n",
      " 4   text_bsc      1378 non-null   object\n",
      " 5   text_bow      1378 non-null   object\n",
      " 6   text_bow_len  1378 non-null   int16 \n",
      "dtypes: int16(1), int64(1), int8(1), object(4)\n",
      "memory usage: 58.0+ KB\n"
     ]
    }
   ],
   "source": [
    "df = pd.read_parquet(\"input/essays_tra.parquet\")\n",
    "df.info()"
   ]
  },
  {
   "cell_type": "markdown",
   "id": "4ea84938-104d-43b1-b700-de8f41bb3239",
   "metadata": {},
   "source": [
    "# Character level features"
   ]
  },
  {
   "cell_type": "code",
   "execution_count": 4,
   "id": "697d108b-3d9d-4095-b39c-a26dfde04fc5",
   "metadata": {},
   "outputs": [
    {
     "name": "stdout",
     "output_type": "stream",
     "text": [
      "ch_digit_frac\n"
     ]
    },
    {
     "name": "stderr",
     "output_type": "stream",
     "text": [
      "100%|████████████████████████████████████████████████████████████████████████████████████████████████████████████████████████████████████████████████████████████████████████████████████████████████████████████| 1378/1378 [00:00<00:00, 15967.57it/s]\n"
     ]
    },
    {
     "name": "stdout",
     "output_type": "stream",
     "text": [
      "ch_letter_frac\n"
     ]
    },
    {
     "name": "stderr",
     "output_type": "stream",
     "text": [
      "100%|████████████████████████████████████████████████████████████████████████████████████████████████████████████████████████████████████████████████████████████████████████████████████████████████████████████| 1378/1378 [00:00<00:00, 14144.35it/s]\n"
     ]
    },
    {
     "name": "stdout",
     "output_type": "stream",
     "text": [
      "ch_space_frac\n"
     ]
    },
    {
     "name": "stderr",
     "output_type": "stream",
     "text": [
      "100%|████████████████████████████████████████████████████████████████████████████████████████████████████████████████████████████████████████████████████████████████████████████████████████████████████████████| 1378/1378 [00:00<00:00, 15000.81it/s]\n"
     ]
    },
    {
     "name": "stdout",
     "output_type": "stream",
     "text": [
      "ch_punc_frac\n"
     ]
    },
    {
     "name": "stderr",
     "output_type": "stream",
     "text": [
      "100%|████████████████████████████████████████████████████████████████████████████████████████████████████████████████████████████████████████████████████████████████████████████████████████████████████████████| 1378/1378 [00:00<00:00, 15532.58it/s]\n"
     ]
    },
    {
     "name": "stdout",
     "output_type": "stream",
     "text": [
      "ch_upper_frac\n"
     ]
    },
    {
     "name": "stderr",
     "output_type": "stream",
     "text": [
      "100%|████████████████████████████████████████████████████████████████████████████████████████████████████████████████████████████████████████████████████████████████████████████████████████████████████████████| 1378/1378 [00:00<00:00, 15524.28it/s]\n"
     ]
    },
    {
     "name": "stdout",
     "output_type": "stream",
     "text": [
      "ch_repeat_char_frac\n"
     ]
    },
    {
     "name": "stderr",
     "output_type": "stream",
     "text": [
      "100%|█████████████████████████████████████████████████████████████████████████████████████████████████████████████████████████████████████████████████████████████████████████████████████████████████████████████| 1378/1378 [00:00<00:00, 5237.13it/s]\n"
     ]
    },
    {
     "name": "stdout",
     "output_type": "stream",
     "text": [
      "ch_repeat_substring_frac\n"
     ]
    },
    {
     "name": "stderr",
     "output_type": "stream",
     "text": [
      "100%|███████████████████████████████████████████████████████████████████████████████████████████████████████████████████████████████████████████████████████████████████████████████████████████████████████████████| 1378/1378 [01:07<00:00, 20.50it/s]"
     ]
    },
    {
     "name": "stdout",
     "output_type": "stream",
     "text": [
      "CPU times: user 1min 7s, sys: 163 ms, total: 1min 7s\n",
      "Wall time: 1min 7s\n"
     ]
    },
    {
     "name": "stderr",
     "output_type": "stream",
     "text": [
      "\n"
     ]
    }
   ],
   "source": [
    "%%time\n",
    "col = \"ch_len\"\n",
    "df[col] = df[text_col].str.len()\n",
    "df[col] = df[col].astype(np.int32)\n",
    "\n",
    "def digit_frac(row) -> float:\n",
    "    return pen.digit_frac(row[text_col])\n",
    "\n",
    "\n",
    "def letter_frac(row) -> float:\n",
    "    return pen.letter_frac(row[text_col])\n",
    "\n",
    "\n",
    "def space_frac(row) -> float:\n",
    "    return pen.space_frac(row[text_col])\n",
    "\n",
    "\n",
    "def punc_frac(row) -> float:\n",
    "    return pen.punc_frac(row[text_col])\n",
    "\n",
    "\n",
    "def upper_frac(row) -> float:\n",
    "    return pen.upper_frac(row[text_col])\n",
    "\n",
    "\n",
    "def repeat_char_frac(row) -> float:\n",
    "    return pen.repeat_char_frac(row[text_col])\n",
    "\n",
    "\n",
    "def repeat_substring_frac(row) -> float:\n",
    "    return pen.repeat_substring_frac(row[text_col])\n",
    "\n",
    "\n",
    "char_fns: Dict[str, Callable] = {\n",
    "    \"ch_digit_frac\": digit_frac,\n",
    "    \"ch_letter_frac\": letter_frac,\n",
    "    \"ch_space_frac\": space_frac,\n",
    "    \"ch_punc_frac\": punc_frac,\n",
    "    \"ch_upper_frac\": upper_frac,\n",
    "    \"ch_repeat_char_frac\": repeat_char_frac,\n",
    "    \"ch_repeat_substring_frac\": repeat_substring_frac,\n",
    "}\n",
    "\n",
    "for col, fn in char_fns.items():\n",
    "    print(col)\n",
    "    df[col] = df.progress_apply(fn, axis=1)\n",
    "    df[col] = df[col].astype(np.float32)"
   ]
  },
  {
   "cell_type": "markdown",
   "id": "071b34fe-f4ef-463b-9e60-46e9bd075a50",
   "metadata": {},
   "source": [
    "# Review"
   ]
  },
  {
   "cell_type": "code",
   "execution_count": 5,
   "id": "2c4caa11-a586-4f23-a56e-649b87b9a929",
   "metadata": {},
   "outputs": [
    {
     "name": "stdout",
     "output_type": "stream",
     "text": [
      "<class 'pandas.core.frame.DataFrame'>\n",
      "RangeIndex: 1378 entries, 0 to 1377\n",
      "Data columns (total 15 columns):\n",
      " #   Column                    Non-Null Count  Dtype  \n",
      "---  ------                    --------------  -----  \n",
      " 0   id                        1378 non-null   object \n",
      " 1   prompt_id                 1378 non-null   int64  \n",
      " 2   text                      1378 non-null   object \n",
      " 3   generated                 1378 non-null   int8   \n",
      " 4   text_bsc                  1378 non-null   object \n",
      " 5   text_bow                  1378 non-null   object \n",
      " 6   text_bow_len              1378 non-null   int16  \n",
      " 7   ch_len                    1378 non-null   int32  \n",
      " 8   ch_digit_frac             1378 non-null   float32\n",
      " 9   ch_letter_frac            1378 non-null   float32\n",
      " 10  ch_space_frac             1378 non-null   float32\n",
      " 11  ch_punc_frac              1378 non-null   float32\n",
      " 12  ch_upper_frac             1378 non-null   float32\n",
      " 13  ch_repeat_char_frac       1378 non-null   float32\n",
      " 14  ch_repeat_substring_frac  1378 non-null   float32\n",
      "dtypes: float32(7), int16(1), int32(1), int64(1), int8(1), object(4)\n",
      "memory usage: 101.1+ KB\n"
     ]
    }
   ],
   "source": [
    "df.info()"
   ]
  },
  {
   "cell_type": "code",
   "execution_count": 6,
   "id": "e6cb4ec5-0c5c-47b1-b0d9-227d36f62a7e",
   "metadata": {},
   "outputs": [
    {
     "data": {
      "text/html": [
       "<div>\n",
       "<style scoped>\n",
       "    .dataframe tbody tr th:only-of-type {\n",
       "        vertical-align: middle;\n",
       "    }\n",
       "\n",
       "    .dataframe tbody tr th {\n",
       "        vertical-align: top;\n",
       "    }\n",
       "\n",
       "    .dataframe thead th {\n",
       "        text-align: right;\n",
       "    }\n",
       "</style>\n",
       "<table border=\"1\" class=\"dataframe\">\n",
       "  <thead>\n",
       "    <tr style=\"text-align: right;\">\n",
       "      <th></th>\n",
       "      <th>prompt_id</th>\n",
       "      <th>generated</th>\n",
       "      <th>text_bow_len</th>\n",
       "      <th>ch_len</th>\n",
       "      <th>ch_digit_frac</th>\n",
       "      <th>ch_letter_frac</th>\n",
       "      <th>ch_space_frac</th>\n",
       "      <th>ch_punc_frac</th>\n",
       "      <th>ch_upper_frac</th>\n",
       "      <th>ch_repeat_char_frac</th>\n",
       "      <th>ch_repeat_substring_frac</th>\n",
       "    </tr>\n",
       "  </thead>\n",
       "  <tbody>\n",
       "    <tr>\n",
       "      <th>count</th>\n",
       "      <td>1378.000000</td>\n",
       "      <td>1378.000000</td>\n",
       "      <td>1378.000000</td>\n",
       "      <td>1378.000000</td>\n",
       "      <td>1378.000000</td>\n",
       "      <td>1378.000000</td>\n",
       "      <td>1378.000000</td>\n",
       "      <td>1378.000000</td>\n",
       "      <td>1378.000000</td>\n",
       "      <td>1378.000000</td>\n",
       "      <td>1378.000000</td>\n",
       "    </tr>\n",
       "    <tr>\n",
       "      <th>mean</th>\n",
       "      <td>0.486212</td>\n",
       "      <td>0.002177</td>\n",
       "      <td>585.858491</td>\n",
       "      <td>3165.206821</td>\n",
       "      <td>0.003984</td>\n",
       "      <td>0.798985</td>\n",
       "      <td>0.175595</td>\n",
       "      <td>0.021436</td>\n",
       "      <td>0.017922</td>\n",
       "      <td>0.016204</td>\n",
       "      <td>0.002257</td>\n",
       "    </tr>\n",
       "    <tr>\n",
       "      <th>std</th>\n",
       "      <td>0.499991</td>\n",
       "      <td>0.046625</td>\n",
       "      <td>180.131658</td>\n",
       "      <td>920.312788</td>\n",
       "      <td>0.003360</td>\n",
       "      <td>0.009016</td>\n",
       "      <td>0.007268</td>\n",
       "      <td>0.005272</td>\n",
       "      <td>0.011855</td>\n",
       "      <td>0.003768</td>\n",
       "      <td>0.001918</td>\n",
       "    </tr>\n",
       "    <tr>\n",
       "      <th>min</th>\n",
       "      <td>0.000000</td>\n",
       "      <td>0.000000</td>\n",
       "      <td>237.000000</td>\n",
       "      <td>1356.000000</td>\n",
       "      <td>0.000000</td>\n",
       "      <td>0.760303</td>\n",
       "      <td>0.147178</td>\n",
       "      <td>0.006163</td>\n",
       "      <td>0.000000</td>\n",
       "      <td>0.007417</td>\n",
       "      <td>0.000000</td>\n",
       "    </tr>\n",
       "    <tr>\n",
       "      <th>1%</th>\n",
       "      <td>0.000000</td>\n",
       "      <td>0.000000</td>\n",
       "      <td>311.770000</td>\n",
       "      <td>1741.770000</td>\n",
       "      <td>0.000000</td>\n",
       "      <td>0.776091</td>\n",
       "      <td>0.160862</td>\n",
       "      <td>0.010023</td>\n",
       "      <td>0.006092</td>\n",
       "      <td>0.009212</td>\n",
       "      <td>0.000000</td>\n",
       "    </tr>\n",
       "    <tr>\n",
       "      <th>5%</th>\n",
       "      <td>0.000000</td>\n",
       "      <td>0.000000</td>\n",
       "      <td>369.850000</td>\n",
       "      <td>1998.700000</td>\n",
       "      <td>0.000000</td>\n",
       "      <td>0.783611</td>\n",
       "      <td>0.164497</td>\n",
       "      <td>0.012942</td>\n",
       "      <td>0.009578</td>\n",
       "      <td>0.011132</td>\n",
       "      <td>0.000000</td>\n",
       "    </tr>\n",
       "    <tr>\n",
       "      <th>10%</th>\n",
       "      <td>0.000000</td>\n",
       "      <td>0.000000</td>\n",
       "      <td>401.000000</td>\n",
       "      <td>2190.100000</td>\n",
       "      <td>0.000000</td>\n",
       "      <td>0.787834</td>\n",
       "      <td>0.166874</td>\n",
       "      <td>0.014732</td>\n",
       "      <td>0.011386</td>\n",
       "      <td>0.012077</td>\n",
       "      <td>0.000000</td>\n",
       "    </tr>\n",
       "    <tr>\n",
       "      <th>20%</th>\n",
       "      <td>0.000000</td>\n",
       "      <td>0.000000</td>\n",
       "      <td>448.000000</td>\n",
       "      <td>2443.000000</td>\n",
       "      <td>0.001104</td>\n",
       "      <td>0.791445</td>\n",
       "      <td>0.169342</td>\n",
       "      <td>0.017033</td>\n",
       "      <td>0.013310</td>\n",
       "      <td>0.013293</td>\n",
       "      <td>0.000870</td>\n",
       "    </tr>\n",
       "    <tr>\n",
       "      <th>30%</th>\n",
       "      <td>0.000000</td>\n",
       "      <td>0.000000</td>\n",
       "      <td>484.100000</td>\n",
       "      <td>2636.100000</td>\n",
       "      <td>0.001753</td>\n",
       "      <td>0.794636</td>\n",
       "      <td>0.171425</td>\n",
       "      <td>0.018505</td>\n",
       "      <td>0.014698</td>\n",
       "      <td>0.014226</td>\n",
       "      <td>0.001165</td>\n",
       "    </tr>\n",
       "    <tr>\n",
       "      <th>40%</th>\n",
       "      <td>0.000000</td>\n",
       "      <td>0.000000</td>\n",
       "      <td>516.000000</td>\n",
       "      <td>2778.000000</td>\n",
       "      <td>0.002414</td>\n",
       "      <td>0.796908</td>\n",
       "      <td>0.173190</td>\n",
       "      <td>0.019932</td>\n",
       "      <td>0.015853</td>\n",
       "      <td>0.015095</td>\n",
       "      <td>0.001496</td>\n",
       "    </tr>\n",
       "    <tr>\n",
       "      <th>50%</th>\n",
       "      <td>0.000000</td>\n",
       "      <td>0.000000</td>\n",
       "      <td>548.000000</td>\n",
       "      <td>2981.000000</td>\n",
       "      <td>0.003254</td>\n",
       "      <td>0.799207</td>\n",
       "      <td>0.175289</td>\n",
       "      <td>0.021235</td>\n",
       "      <td>0.017284</td>\n",
       "      <td>0.015814</td>\n",
       "      <td>0.001933</td>\n",
       "    </tr>\n",
       "    <tr>\n",
       "      <th>60%</th>\n",
       "      <td>1.000000</td>\n",
       "      <td>0.000000</td>\n",
       "      <td>587.000000</td>\n",
       "      <td>3186.200000</td>\n",
       "      <td>0.004099</td>\n",
       "      <td>0.801744</td>\n",
       "      <td>0.177121</td>\n",
       "      <td>0.022592</td>\n",
       "      <td>0.018692</td>\n",
       "      <td>0.016573</td>\n",
       "      <td>0.002373</td>\n",
       "    </tr>\n",
       "    <tr>\n",
       "      <th>70%</th>\n",
       "      <td>1.000000</td>\n",
       "      <td>0.000000</td>\n",
       "      <td>636.000000</td>\n",
       "      <td>3440.500000</td>\n",
       "      <td>0.005161</td>\n",
       "      <td>0.803870</td>\n",
       "      <td>0.179143</td>\n",
       "      <td>0.024107</td>\n",
       "      <td>0.020237</td>\n",
       "      <td>0.017435</td>\n",
       "      <td>0.002871</td>\n",
       "    </tr>\n",
       "    <tr>\n",
       "      <th>80%</th>\n",
       "      <td>1.000000</td>\n",
       "      <td>0.000000</td>\n",
       "      <td>705.000000</td>\n",
       "      <td>3824.200000</td>\n",
       "      <td>0.006559</td>\n",
       "      <td>0.806664</td>\n",
       "      <td>0.181703</td>\n",
       "      <td>0.025864</td>\n",
       "      <td>0.021910</td>\n",
       "      <td>0.018718</td>\n",
       "      <td>0.003479</td>\n",
       "    </tr>\n",
       "    <tr>\n",
       "      <th>90%</th>\n",
       "      <td>1.000000</td>\n",
       "      <td>0.000000</td>\n",
       "      <td>809.200000</td>\n",
       "      <td>4398.800000</td>\n",
       "      <td>0.008698</td>\n",
       "      <td>0.809888</td>\n",
       "      <td>0.185309</td>\n",
       "      <td>0.028158</td>\n",
       "      <td>0.024364</td>\n",
       "      <td>0.020408</td>\n",
       "      <td>0.004547</td>\n",
       "    </tr>\n",
       "    <tr>\n",
       "      <th>95%</th>\n",
       "      <td>1.000000</td>\n",
       "      <td>0.000000</td>\n",
       "      <td>920.150000</td>\n",
       "      <td>4876.100000</td>\n",
       "      <td>0.010644</td>\n",
       "      <td>0.812989</td>\n",
       "      <td>0.188069</td>\n",
       "      <td>0.030282</td>\n",
       "      <td>0.026601</td>\n",
       "      <td>0.022144</td>\n",
       "      <td>0.005645</td>\n",
       "    </tr>\n",
       "    <tr>\n",
       "      <th>99%</th>\n",
       "      <td>1.000000</td>\n",
       "      <td>0.000000</td>\n",
       "      <td>1230.150000</td>\n",
       "      <td>6189.540000</td>\n",
       "      <td>0.013647</td>\n",
       "      <td>0.818363</td>\n",
       "      <td>0.194207</td>\n",
       "      <td>0.034966</td>\n",
       "      <td>0.031563</td>\n",
       "      <td>0.030548</td>\n",
       "      <td>0.008557</td>\n",
       "    </tr>\n",
       "    <tr>\n",
       "      <th>max</th>\n",
       "      <td>1.000000</td>\n",
       "      <td>1.000000</td>\n",
       "      <td>2211.000000</td>\n",
       "      <td>8428.000000</td>\n",
       "      <td>0.021012</td>\n",
       "      <td>0.825627</td>\n",
       "      <td>0.201317</td>\n",
       "      <td>0.040722</td>\n",
       "      <td>0.411397</td>\n",
       "      <td>0.043582</td>\n",
       "      <td>0.022666</td>\n",
       "    </tr>\n",
       "  </tbody>\n",
       "</table>\n",
       "</div>"
      ],
      "text/plain": [
       "         prompt_id    generated  text_bow_len       ch_len  ch_digit_frac  \\\n",
       "count  1378.000000  1378.000000   1378.000000  1378.000000    1378.000000   \n",
       "mean      0.486212     0.002177    585.858491  3165.206821       0.003984   \n",
       "std       0.499991     0.046625    180.131658   920.312788       0.003360   \n",
       "min       0.000000     0.000000    237.000000  1356.000000       0.000000   \n",
       "1%        0.000000     0.000000    311.770000  1741.770000       0.000000   \n",
       "5%        0.000000     0.000000    369.850000  1998.700000       0.000000   \n",
       "10%       0.000000     0.000000    401.000000  2190.100000       0.000000   \n",
       "20%       0.000000     0.000000    448.000000  2443.000000       0.001104   \n",
       "30%       0.000000     0.000000    484.100000  2636.100000       0.001753   \n",
       "40%       0.000000     0.000000    516.000000  2778.000000       0.002414   \n",
       "50%       0.000000     0.000000    548.000000  2981.000000       0.003254   \n",
       "60%       1.000000     0.000000    587.000000  3186.200000       0.004099   \n",
       "70%       1.000000     0.000000    636.000000  3440.500000       0.005161   \n",
       "80%       1.000000     0.000000    705.000000  3824.200000       0.006559   \n",
       "90%       1.000000     0.000000    809.200000  4398.800000       0.008698   \n",
       "95%       1.000000     0.000000    920.150000  4876.100000       0.010644   \n",
       "99%       1.000000     0.000000   1230.150000  6189.540000       0.013647   \n",
       "max       1.000000     1.000000   2211.000000  8428.000000       0.021012   \n",
       "\n",
       "       ch_letter_frac  ch_space_frac  ch_punc_frac  ch_upper_frac  \\\n",
       "count     1378.000000    1378.000000   1378.000000    1378.000000   \n",
       "mean         0.798985       0.175595      0.021436       0.017922   \n",
       "std          0.009016       0.007268      0.005272       0.011855   \n",
       "min          0.760303       0.147178      0.006163       0.000000   \n",
       "1%           0.776091       0.160862      0.010023       0.006092   \n",
       "5%           0.783611       0.164497      0.012942       0.009578   \n",
       "10%          0.787834       0.166874      0.014732       0.011386   \n",
       "20%          0.791445       0.169342      0.017033       0.013310   \n",
       "30%          0.794636       0.171425      0.018505       0.014698   \n",
       "40%          0.796908       0.173190      0.019932       0.015853   \n",
       "50%          0.799207       0.175289      0.021235       0.017284   \n",
       "60%          0.801744       0.177121      0.022592       0.018692   \n",
       "70%          0.803870       0.179143      0.024107       0.020237   \n",
       "80%          0.806664       0.181703      0.025864       0.021910   \n",
       "90%          0.809888       0.185309      0.028158       0.024364   \n",
       "95%          0.812989       0.188069      0.030282       0.026601   \n",
       "99%          0.818363       0.194207      0.034966       0.031563   \n",
       "max          0.825627       0.201317      0.040722       0.411397   \n",
       "\n",
       "       ch_repeat_char_frac  ch_repeat_substring_frac  \n",
       "count          1378.000000               1378.000000  \n",
       "mean              0.016204                  0.002257  \n",
       "std               0.003768                  0.001918  \n",
       "min               0.007417                  0.000000  \n",
       "1%                0.009212                  0.000000  \n",
       "5%                0.011132                  0.000000  \n",
       "10%               0.012077                  0.000000  \n",
       "20%               0.013293                  0.000870  \n",
       "30%               0.014226                  0.001165  \n",
       "40%               0.015095                  0.001496  \n",
       "50%               0.015814                  0.001933  \n",
       "60%               0.016573                  0.002373  \n",
       "70%               0.017435                  0.002871  \n",
       "80%               0.018718                  0.003479  \n",
       "90%               0.020408                  0.004547  \n",
       "95%               0.022144                  0.005645  \n",
       "99%               0.030548                  0.008557  \n",
       "max               0.043582                  0.022666  "
      ]
     },
     "execution_count": 6,
     "metadata": {},
     "output_type": "execute_result"
    }
   ],
   "source": [
    "df.describe(percentiles=percentiles)"
   ]
  },
  {
   "cell_type": "code",
   "execution_count": 7,
   "id": "60744d80-59d6-4bcb-8a95-ce40af7a0bc6",
   "metadata": {},
   "outputs": [
    {
     "name": "stdout",
     "output_type": "stream",
     "text": [
      "CPU times: user 30 ms, sys: 4.16 ms, total: 34.2 ms\n",
      "Wall time: 31.3 ms\n"
     ]
    }
   ],
   "source": [
    "%%time\n",
    "df.to_parquet(f\"output/features.parquet\", index=False)\n",
    "assert df.notna().all(axis=None)"
   ]
  },
  {
   "cell_type": "code",
   "execution_count": 8,
   "id": "5ff172ad-3ad0-443a-a412-d95488d44bda",
   "metadata": {},
   "outputs": [
    {
     "name": "stdout",
     "output_type": "stream",
     "text": [
      "Total time taken 0:01:08.057794\n"
     ]
    }
   ],
   "source": [
    "tim.stop()\n",
    "print(f\"Total time taken {str(tim.elapsed)}\")"
   ]
  }
 ],
 "metadata": {
  "kernelspec": {
   "display_name": "Python 3 (ipykernel)",
   "language": "python",
   "name": "python3"
  },
  "language_info": {
   "codemirror_mode": {
    "name": "ipython",
    "version": 3
   },
   "file_extension": ".py",
   "mimetype": "text/x-python",
   "name": "python",
   "nbconvert_exporter": "python",
   "pygments_lexer": "ipython3",
   "version": "3.11.7"
  }
 },
 "nbformat": 4,
 "nbformat_minor": 5
}
