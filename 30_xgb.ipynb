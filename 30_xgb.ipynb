{
 "cells": [
  {
   "cell_type": "code",
   "execution_count": 1,
   "id": "062a9473-ec3c-4f1c-80de-66912972bcad",
   "metadata": {},
   "outputs": [],
   "source": [
    "import os\n",
    "import json\n",
    "import pathlib\n",
    "from datetime import datetime\n",
    "import optuna\n",
    "import pandas as pd\n",
    "import numpy as np\n",
    "import xgboost as xgb\n",
    "from sklearn.model_selection import train_test_split\n",
    "import torch\n",
    "from typing import List, Dict, Union, Tuple, NamedTuple\n",
    "from tqdm import tqdm\n",
    "import scml\n",
    "tim = scml.Timer()\n",
    "tim.start()\n",
    "os.environ[\"TOKENIZERS_PARALLELISM\"] = \"false\"\n",
    "percentiles=[.01, .05, .1, .2, .3, .4, .5, .6, .7, .8, .9, .95, .99]\n",
    "pd.set_option(\"use_inf_as_na\", True)\n",
    "pd.set_option(\"max_info_columns\", 9999)\n",
    "pd.set_option(\"display.max_columns\", 9999)\n",
    "pd.set_option(\"display.max_rows\", 9999)\n",
    "pd.set_option('max_colwidth', 9999)\n",
    "tqdm.pandas()\n",
    "scml.seed_everything()"
   ]
  },
  {
   "cell_type": "code",
   "execution_count": 2,
   "id": "bafd5a38-0166-47b6-aed4-7ae66bd7bbae",
   "metadata": {},
   "outputs": [],
   "source": [
    "ts = datetime.now().strftime('%Y%m%d_%H%M%S')\n",
    "job_dir = f\"models/xgb/{ts}\"\n",
    "pathlib.Path(job_dir).mkdir(parents=True, exist_ok=True)\n",
    "num_boost_round: int = 100\n",
    "lr: Tuple[float, float] = (1e-3, 1e-3)\n",
    "feature_fraction: Tuple[float, float] = (1, 1)\n",
    "min_data_in_leaf: Tuple[int, int] = (20, 20)\n",
    "objective: str = \"binary:logistic\"\n",
    "n_trials: int = 1\n",
    "label = \"generated\""
   ]
  },
  {
   "cell_type": "code",
   "execution_count": 3,
   "id": "e822fad3-d0a9-4094-9efb-60cde058d454",
   "metadata": {},
   "outputs": [
    {
     "name": "stdout",
     "output_type": "stream",
     "text": [
      "<class 'pandas.core.frame.DataFrame'>\n",
      "RangeIndex: 1378 entries, 0 to 1377\n",
      "Data columns (total 15 columns):\n",
      " #   Column                    Non-Null Count  Dtype  \n",
      "---  ------                    --------------  -----  \n",
      " 0   id                        1378 non-null   object \n",
      " 1   prompt_id                 1378 non-null   int64  \n",
      " 2   text                      1378 non-null   object \n",
      " 3   generated                 1378 non-null   int8   \n",
      " 4   text_bsc                  1378 non-null   object \n",
      " 5   text_bow                  1378 non-null   object \n",
      " 6   text_bow_len              1378 non-null   int16  \n",
      " 7   ch_len                    1378 non-null   int32  \n",
      " 8   ch_digit_frac             1378 non-null   float32\n",
      " 9   ch_letter_frac            1378 non-null   float32\n",
      " 10  ch_space_frac             1378 non-null   float32\n",
      " 11  ch_punc_frac              1378 non-null   float32\n",
      " 12  ch_upper_frac             1378 non-null   float32\n",
      " 13  ch_repeat_char_frac       1378 non-null   float32\n",
      " 14  ch_repeat_substring_frac  1378 non-null   float32\n",
      "dtypes: float32(7), int16(1), int32(1), int64(1), int8(1), object(4)\n",
      "memory usage: 101.1+ KB\n"
     ]
    }
   ],
   "source": [
    "tra = pd.read_parquet(\"input/features_tra.parquet\")\n",
    "tra.info()"
   ]
  },
  {
   "cell_type": "code",
   "execution_count": 4,
   "id": "dfb8e82b-a582-4d2a-88e1-d4a4c85a1fb8",
   "metadata": {},
   "outputs": [
    {
     "name": "stdout",
     "output_type": "stream",
     "text": [
      "9 features\n",
      "['ch_digit_frac', 'ch_len', 'ch_letter_frac', 'ch_punc_frac', 'ch_repeat_char_frac', 'ch_repeat_substring_frac', 'ch_space_frac', 'ch_upper_frac', 'text_bow_len']\n"
     ]
    }
   ],
   "source": [
    "features = [\"text_bow_len\"]\n",
    "for col in tra.columns:\n",
    "    if col.startswith(\"ch_\"):\n",
    "        features.append(col)\n",
    "features.sort()\n",
    "print(f\"{len(features)} features\\n{features}\")"
   ]
  },
  {
   "cell_type": "code",
   "execution_count": 5,
   "id": "41fd2b91-247a-4891-9859-478bb1d42583",
   "metadata": {},
   "outputs": [],
   "source": [
    "X_train, X_test, y_train, y_test = train_test_split(tra[features], tra[label], test_size=0.2)\n",
    "dtrain = xgb.DMatrix(X_train, y_train, enable_categorical=False)\n",
    "dval = xgb.DMatrix(X_test, y_test, enable_categorical=False)"
   ]
  },
  {
   "cell_type": "code",
   "execution_count": 6,
   "id": "df30c12e-601b-4dcb-8ab9-90f3beb13b45",
   "metadata": {},
   "outputs": [
    {
     "name": "stdout",
     "output_type": "stream",
     "text": [
      "[0]\ttrain-logloss:0.11888\tvalidation-logloss:0.12278\n",
      "[10]\ttrain-logloss:0.04738\tvalidation-logloss:0.05354\n",
      "[20]\ttrain-logloss:0.02284\tvalidation-logloss:0.03093\n",
      "[30]\ttrain-logloss:0.01440\tvalidation-logloss:0.02390\n",
      "[40]\ttrain-logloss:0.01169\tvalidation-logloss:0.02222\n",
      "[50]\ttrain-logloss:0.01118\tvalidation-logloss:0.02210\n",
      "[55]\ttrain-logloss:0.01118\tvalidation-logloss:0.02210\n",
      "best score 0.02210 at iteration 45\n",
      "CPU times: user 117 ms, sys: 213 ms, total: 331 ms\n",
      "Wall time: 30.1 ms\n"
     ]
    }
   ],
   "source": [
    "%%time\n",
    "model = xgb.train(\n",
    "   params={\n",
    "       \"objective\": objective,\n",
    "       \"learning_rate\": 1e-1,\n",
    "       \"min_child_weight\": 4,\n",
    "       \"colsample_bytree\": 0.5,\n",
    "       \"max_depth\": 6,\n",
    "   },\n",
    "   dtrain=dtrain,\n",
    "   num_boost_round=100,\n",
    "   evals=[(dtrain, \"train\"), (dval, \"validation\")],\n",
    "   verbose_eval=10,\n",
    "   early_stopping_rounds=10,\n",
    ")\n",
    "print(f\"best score {model.best_score:.5f} at iteration {model.best_iteration}\")\n",
    "model.save_model(f\"{job_dir}/model.json\")"
   ]
  },
  {
   "cell_type": "code",
   "execution_count": 7,
   "id": "f793a39d-7bce-4472-aef3-bacde89ee929",
   "metadata": {},
   "outputs": [
    {
     "name": "stdout",
     "output_type": "stream",
     "text": [
      "Saved models/xgb/20240117_020926/features.csv\n",
      "CPU times: user 7.24 ms, sys: 18 ms, total: 25.3 ms\n",
      "Wall time: 2.21 ms\n"
     ]
    },
    {
     "data": {
      "text/html": [
       "<div>\n",
       "<style scoped>\n",
       "    .dataframe tbody tr th:only-of-type {\n",
       "        vertical-align: middle;\n",
       "    }\n",
       "\n",
       "    .dataframe tbody tr th {\n",
       "        vertical-align: top;\n",
       "    }\n",
       "\n",
       "    .dataframe thead th {\n",
       "        text-align: right;\n",
       "    }\n",
       "</style>\n",
       "<table border=\"1\" class=\"dataframe\">\n",
       "  <thead>\n",
       "    <tr style=\"text-align: right;\">\n",
       "      <th></th>\n",
       "      <th>0</th>\n",
       "      <th>1</th>\n",
       "      <th>2</th>\n",
       "      <th>3</th>\n",
       "      <th>4</th>\n",
       "      <th>5</th>\n",
       "      <th>6</th>\n",
       "      <th>7</th>\n",
       "    </tr>\n",
       "  </thead>\n",
       "  <tbody>\n",
       "    <tr>\n",
       "      <th>importance</th>\n",
       "      <td>0.486534</td>\n",
       "      <td>0.459423</td>\n",
       "      <td>0.388494</td>\n",
       "      <td>0.377687</td>\n",
       "      <td>0.363913</td>\n",
       "      <td>0.176891</td>\n",
       "      <td>0.137881</td>\n",
       "      <td>0.081103</td>\n",
       "    </tr>\n",
       "    <tr>\n",
       "      <th>feature</th>\n",
       "      <td>ch_letter_frac</td>\n",
       "      <td>ch_len</td>\n",
       "      <td>ch_upper_frac</td>\n",
       "      <td>ch_digit_frac</td>\n",
       "      <td>text_bow_len</td>\n",
       "      <td>ch_punc_frac</td>\n",
       "      <td>ch_repeat_substring_frac</td>\n",
       "      <td>ch_repeat_char_frac</td>\n",
       "    </tr>\n",
       "  </tbody>\n",
       "</table>\n",
       "</div>"
      ],
      "text/plain": [
       "                         0         1              2              3  \\\n",
       "importance        0.486534  0.459423       0.388494       0.377687   \n",
       "feature     ch_letter_frac    ch_len  ch_upper_frac  ch_digit_frac   \n",
       "\n",
       "                       4             5                         6  \\\n",
       "importance      0.363913      0.176891                  0.137881   \n",
       "feature     text_bow_len  ch_punc_frac  ch_repeat_substring_frac   \n",
       "\n",
       "                              7  \n",
       "importance             0.081103  \n",
       "feature     ch_repeat_char_frac  "
      ]
     },
     "execution_count": 7,
     "metadata": {},
     "output_type": "execute_result"
    }
   ],
   "source": [
    "%%time\n",
    "scores = model.get_score(importance_type=\"gain\")\n",
    "assert len(scores)!=0\n",
    "rows = []\n",
    "for feature, score in scores.items():\n",
    "    rows.append({'importance': score, 'feature': feature})\n",
    "df = pd.DataFrame.from_records(rows)\n",
    "df = df.sort_values([\"importance\"], ascending=False, ignore_index=True)\n",
    "_path = f\"{job_dir}/features.csv\"\n",
    "df.to_csv(_path, index=True)\n",
    "print(f\"Saved {_path}\")\n",
    "df.T.head()"
   ]
  },
  {
   "cell_type": "code",
   "execution_count": 8,
   "id": "a994ecf2-2058-4117-923f-bda3a05f83f0",
   "metadata": {},
   "outputs": [
    {
     "name": "stdout",
     "output_type": "stream",
     "text": [
      "Total time taken 0:00:00.095558\n"
     ]
    }
   ],
   "source": [
    "tim.stop()\n",
    "print(f\"Total time taken {str(tim.elapsed)}\")"
   ]
  }
 ],
 "metadata": {
  "kernelspec": {
   "display_name": "Python 3 (ipykernel)",
   "language": "python",
   "name": "python3"
  },
  "language_info": {
   "codemirror_mode": {
    "name": "ipython",
    "version": 3
   },
   "file_extension": ".py",
   "mimetype": "text/x-python",
   "name": "python",
   "nbconvert_exporter": "python",
   "pygments_lexer": "ipython3",
   "version": "3.11.7"
  }
 },
 "nbformat": 4,
 "nbformat_minor": 5
}
