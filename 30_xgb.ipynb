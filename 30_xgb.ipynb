{
 "cells": [
  {
   "cell_type": "code",
   "execution_count": 1,
   "id": "062a9473-ec3c-4f1c-80de-66912972bcad",
   "metadata": {},
   "outputs": [],
   "source": [
    "import os\n",
    "import json\n",
    "import pathlib\n",
    "from datetime import datetime\n",
    "import optuna\n",
    "import pandas as pd\n",
    "import numpy as np\n",
    "import xgboost as xgb\n",
    "from sklearn.model_selection import train_test_split\n",
    "import torch\n",
    "from typing import List, Dict, Union, Tuple, NamedTuple\n",
    "from tqdm import tqdm\n",
    "import scml\n",
    "tim = scml.Timer()\n",
    "tim.start()\n",
    "os.environ[\"TOKENIZERS_PARALLELISM\"] = \"false\"\n",
    "percentiles=[.01, .05, .1, .2, .3, .4, .5, .6, .7, .8, .9, .95, .99]\n",
    "pd.set_option(\"use_inf_as_na\", True)\n",
    "pd.set_option(\"max_info_columns\", 9999)\n",
    "pd.set_option(\"display.max_columns\", 9999)\n",
    "pd.set_option(\"display.max_rows\", 9999)\n",
    "pd.set_option('max_colwidth', 9999)\n",
    "tqdm.pandas()\n",
    "scml.seed_everything()"
   ]
  },
  {
   "cell_type": "code",
   "execution_count": 2,
   "id": "bafd5a38-0166-47b6-aed4-7ae66bd7bbae",
   "metadata": {},
   "outputs": [],
   "source": [
    "ts = datetime.now().strftime('%Y%m%d_%H%M%S')\n",
    "job_dir = f\"models/xgb/{ts}\"\n",
    "pathlib.Path(job_dir).mkdir(parents=True, exist_ok=True)\n",
    "num_boost_round: int = 100\n",
    "lr: Tuple[float, float] = (1e-3, 1e-3)\n",
    "feature_fraction: Tuple[float, float] = (1, 1)\n",
    "min_data_in_leaf: Tuple[int, int] = (20, 20)\n",
    "objective: str = \"binary:logistic\"\n",
    "n_trials: int = 1\n",
    "label = \"generated\""
   ]
  },
  {
   "cell_type": "code",
   "execution_count": 3,
   "id": "e822fad3-d0a9-4094-9efb-60cde058d454",
   "metadata": {},
   "outputs": [
    {
     "name": "stdout",
     "output_type": "stream",
     "text": [
      "<class 'pandas.core.frame.DataFrame'>\n",
      "RangeIndex: 39515 entries, 0 to 39514\n",
      "Data columns (total 19 columns):\n",
      " #   Column                    Non-Null Count  Dtype  \n",
      "---  ------                    --------------  -----  \n",
      " 0   essay_id                  39515 non-null  int64  \n",
      " 1   generated                 39515 non-null  int8   \n",
      " 2   source                    39515 non-null  object \n",
      " 3   prompt                    39515 non-null  object \n",
      " 4   text                      39515 non-null  object \n",
      " 5   text_bsc                  39515 non-null  object \n",
      " 6   text_bow                  39515 non-null  object \n",
      " 7   text_bow_len              39515 non-null  int32  \n",
      " 8   prompt_bsc                39515 non-null  object \n",
      " 9   prompt_bow                39515 non-null  object \n",
      " 10  prompt_bow_len            39515 non-null  int32  \n",
      " 11  ch_len                    39515 non-null  int32  \n",
      " 12  ch_digit_frac             39515 non-null  float32\n",
      " 13  ch_letter_frac            39515 non-null  float32\n",
      " 14  ch_space_frac             39515 non-null  float32\n",
      " 15  ch_punc_frac              39515 non-null  float32\n",
      " 16  ch_upper_frac             39515 non-null  float32\n",
      " 17  ch_repeat_char_frac       39515 non-null  float32\n",
      " 18  ch_repeat_substring_frac  39515 non-null  float32\n",
      "dtypes: float32(7), int32(3), int64(1), int8(1), object(7)\n",
      "memory usage: 4.0+ MB\n"
     ]
    }
   ],
   "source": [
    "tra = pd.read_parquet(\"input/features.parquet\")\n",
    "tra.info()"
   ]
  },
  {
   "cell_type": "code",
   "execution_count": 4,
   "id": "dfb8e82b-a582-4d2a-88e1-d4a4c85a1fb8",
   "metadata": {},
   "outputs": [
    {
     "name": "stdout",
     "output_type": "stream",
     "text": [
      "8 features\n",
      "['ch_digit_frac', 'ch_len', 'ch_letter_frac', 'ch_punc_frac', 'ch_repeat_char_frac', 'ch_repeat_substring_frac', 'ch_space_frac', 'ch_upper_frac']\n"
     ]
    }
   ],
   "source": [
    "features = []\n",
    "for col in tra.columns:\n",
    "    if col.startswith(\"ch_\"):\n",
    "        features.append(col)\n",
    "features.sort()\n",
    "print(f\"{len(features)} features\\n{features}\")"
   ]
  },
  {
   "cell_type": "code",
   "execution_count": 5,
   "id": "41fd2b91-247a-4891-9859-478bb1d42583",
   "metadata": {},
   "outputs": [],
   "source": [
    "X_train, X_test, y_train, y_test = train_test_split(tra[features], tra[label], test_size=0.2)\n",
    "dtrain = xgb.DMatrix(X_train, y_train, enable_categorical=False)\n",
    "dval = xgb.DMatrix(X_test, y_test, enable_categorical=False)"
   ]
  },
  {
   "cell_type": "code",
   "execution_count": 6,
   "id": "df30c12e-601b-4dcb-8ab9-90f3beb13b45",
   "metadata": {},
   "outputs": [
    {
     "name": "stdout",
     "output_type": "stream",
     "text": [
      "[0]\ttrain-logloss:0.54567\tvalidation-logloss:0.54251\n",
      "[40]\ttrain-logloss:0.24947\tvalidation-logloss:0.24876\n",
      "[80]\ttrain-logloss:0.19754\tvalidation-logloss:0.20065\n",
      "[120]\ttrain-logloss:0.18014\tvalidation-logloss:0.18655\n",
      "[160]\ttrain-logloss:0.17224\tvalidation-logloss:0.18052\n",
      "[200]\ttrain-logloss:0.16781\tvalidation-logloss:0.17782\n",
      "[240]\ttrain-logloss:0.16458\tvalidation-logloss:0.17621\n",
      "[280]\ttrain-logloss:0.16201\tvalidation-logloss:0.17501\n",
      "[320]\ttrain-logloss:0.15986\tvalidation-logloss:0.17412\n",
      "[360]\ttrain-logloss:0.15775\tvalidation-logloss:0.17342\n",
      "[400]\ttrain-logloss:0.15558\tvalidation-logloss:0.17304\n",
      "[440]\ttrain-logloss:0.15360\tvalidation-logloss:0.17259\n",
      "[480]\ttrain-logloss:0.15169\tvalidation-logloss:0.17237\n",
      "[520]\ttrain-logloss:0.14982\tvalidation-logloss:0.17185\n",
      "[560]\ttrain-logloss:0.14797\tvalidation-logloss:0.17167\n",
      "[600]\ttrain-logloss:0.14634\tvalidation-logloss:0.17152\n",
      "[640]\ttrain-logloss:0.14527\tvalidation-logloss:0.17170\n",
      "[645]\ttrain-logloss:0.14504\tvalidation-logloss:0.17168\n",
      "best score 0.17150 at iteration 606\n",
      "CPU times: user 4.91 s, sys: 4.63 s, total: 9.54 s\n",
      "Wall time: 744 ms\n"
     ]
    }
   ],
   "source": [
    "%%time\n",
    "model = xgb.train(\n",
    "   params={\n",
    "       \"objective\": objective,\n",
    "       \"learning_rate\": 5e-2,\n",
    "       \"min_child_weight\": 20,\n",
    "       \"colsample_bytree\": 0.5,\n",
    "       \"max_depth\": 6,\n",
    "   },\n",
    "   dtrain=dtrain,\n",
    "   num_boost_round=1000,\n",
    "   evals=[(dtrain, \"train\"), (dval, \"validation\")],\n",
    "   verbose_eval=40,\n",
    "   early_stopping_rounds=40,\n",
    ")\n",
    "print(f\"best score {model.best_score:.5f} at iteration {model.best_iteration}\")\n",
    "model.save_model(f\"{job_dir}/model.json\")"
   ]
  },
  {
   "cell_type": "code",
   "execution_count": 7,
   "id": "f793a39d-7bce-4472-aef3-bacde89ee929",
   "metadata": {},
   "outputs": [
    {
     "name": "stdout",
     "output_type": "stream",
     "text": [
      "Saved models/xgb/20240118_071558/features.csv\n",
      "CPU times: user 6.07 ms, sys: 16.3 ms, total: 22.3 ms\n",
      "Wall time: 2.02 ms\n"
     ]
    },
    {
     "data": {
      "text/html": [
       "<div>\n",
       "<style scoped>\n",
       "    .dataframe tbody tr th:only-of-type {\n",
       "        vertical-align: middle;\n",
       "    }\n",
       "\n",
       "    .dataframe tbody tr th {\n",
       "        vertical-align: top;\n",
       "    }\n",
       "\n",
       "    .dataframe thead th {\n",
       "        text-align: right;\n",
       "    }\n",
       "</style>\n",
       "<table border=\"1\" class=\"dataframe\">\n",
       "  <thead>\n",
       "    <tr style=\"text-align: right;\">\n",
       "      <th></th>\n",
       "      <th>0</th>\n",
       "      <th>1</th>\n",
       "      <th>2</th>\n",
       "      <th>3</th>\n",
       "      <th>4</th>\n",
       "      <th>5</th>\n",
       "      <th>6</th>\n",
       "      <th>7</th>\n",
       "    </tr>\n",
       "  </thead>\n",
       "  <tbody>\n",
       "    <tr>\n",
       "      <th>importance</th>\n",
       "      <td>54.395298</td>\n",
       "      <td>35.851475</td>\n",
       "      <td>35.267052</td>\n",
       "      <td>21.672609</td>\n",
       "      <td>21.451225</td>\n",
       "      <td>9.819571</td>\n",
       "      <td>5.997214</td>\n",
       "      <td>4.037098</td>\n",
       "    </tr>\n",
       "    <tr>\n",
       "      <th>feature</th>\n",
       "      <td>ch_space_frac</td>\n",
       "      <td>ch_letter_frac</td>\n",
       "      <td>ch_punc_frac</td>\n",
       "      <td>ch_digit_frac</td>\n",
       "      <td>ch_len</td>\n",
       "      <td>ch_upper_frac</td>\n",
       "      <td>ch_repeat_substring_frac</td>\n",
       "      <td>ch_repeat_char_frac</td>\n",
       "    </tr>\n",
       "  </tbody>\n",
       "</table>\n",
       "</div>"
      ],
      "text/plain": [
       "                        0               1             2              3  \\\n",
       "importance      54.395298       35.851475     35.267052      21.672609   \n",
       "feature     ch_space_frac  ch_letter_frac  ch_punc_frac  ch_digit_frac   \n",
       "\n",
       "                    4              5                         6  \\\n",
       "importance  21.451225       9.819571                  5.997214   \n",
       "feature        ch_len  ch_upper_frac  ch_repeat_substring_frac   \n",
       "\n",
       "                              7  \n",
       "importance             4.037098  \n",
       "feature     ch_repeat_char_frac  "
      ]
     },
     "execution_count": 7,
     "metadata": {},
     "output_type": "execute_result"
    }
   ],
   "source": [
    "%%time\n",
    "scores = model.get_score(importance_type=\"gain\")\n",
    "assert len(scores)!=0\n",
    "rows = []\n",
    "for feature, score in scores.items():\n",
    "    rows.append({'importance': score, 'feature': feature})\n",
    "df = pd.DataFrame.from_records(rows)\n",
    "df = df.sort_values([\"importance\"], ascending=False, ignore_index=True)\n",
    "_path = f\"{job_dir}/importance.csv\"\n",
    "df.to_csv(_path, index=True)\n",
    "print(f\"Saved {_path}\")\n",
    "df.T.head()"
   ]
  },
  {
   "cell_type": "code",
   "execution_count": 8,
   "id": "a994ecf2-2058-4117-923f-bda3a05f83f0",
   "metadata": {},
   "outputs": [
    {
     "name": "stdout",
     "output_type": "stream",
     "text": [
      "Total time taken 0:00:00.946309\n"
     ]
    }
   ],
   "source": [
    "tim.stop()\n",
    "print(f\"Total time taken {str(tim.elapsed)}\")"
   ]
  }
 ],
 "metadata": {
  "kernelspec": {
   "display_name": "Python 3 (ipykernel)",
   "language": "python",
   "name": "python3"
  },
  "language_info": {
   "codemirror_mode": {
    "name": "ipython",
    "version": 3
   },
   "file_extension": ".py",
   "mimetype": "text/x-python",
   "name": "python",
   "nbconvert_exporter": "python",
   "pygments_lexer": "ipython3",
   "version": "3.11.7"
  }
 },
 "nbformat": 4,
 "nbformat_minor": 5
}
